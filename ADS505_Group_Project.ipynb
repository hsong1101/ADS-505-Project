{
 "cells": [
  {
   "cell_type": "markdown",
   "id": "6f5f3a63",
   "metadata": {},
   "source": [
    "# Final Team Project\n",
    "- Hanmaro Song\n",
    "- Eva Chow\n",
    "- Jose Luis Estrada"
   ]
  },
  {
   "cell_type": "code",
   "execution_count": 1,
   "id": "b8c5561d",
   "metadata": {},
   "outputs": [],
   "source": [
    "import pandas as pd\n",
    "import numpy as np\n",
    "\n",
    "import matplotlib.pyplot as plt\n",
    "import scikitplot as skplt\n",
    "import seaborn as sns\n",
    "\n",
    "from statsmodels.stats.outliers_influence import variance_inflation_factor\n",
    "\n",
    "from sklearn.model_selection import train_test_split\n",
    "from sklearn.cluster import KMeans\n",
    "from sklearn.decomposition import PCA\n",
    "from sklearn.ensemble import RandomForestClassifier\n",
    "\n",
    "from sklearn.metrics import plot_confusion_matrix\n",
    "\n",
    "random_state = 123\n",
    "\n",
    "import warnings\n",
    "\n",
    "warnings.filterwarnings('ignore')"
   ]
  },
  {
   "cell_type": "markdown",
   "id": "cbd1790b",
   "metadata": {},
   "source": [
    "### Exploratory Data Analysis"
   ]
  },
  {
   "cell_type": "markdown",
   "id": "8537a13f",
   "metadata": {},
   "source": [
    "| Features | Description |\n",
    "| --- | --- |\n",
    "| year | Year |\n",
    "| month | Month |\n",
    "| day | Day |\n",
    "| dep_time | Departure time, in Eastern time zone |\n",
    "| dep_delay | Departure delay, in minutes |\n",
    "| arr_time | Arrival time, in the local time zone|\n",
    "| arr_delay | Arrival delay, in minutes |\n",
    "| carrier | Carrier, abbreviated |\n",
    "| tailnum | Tail number of the airplane |\n",
    "| flight | Flight number |\n",
    "| origin | Flight origin, airport code |\n",
    "| dest | Flight destination, airport code |\n",
    "| air_time | Time in the air, in minutes |\n",
    "| distance | Distance between the departure and arrival airports, in miles |\n",
    "| hour | Scheduled departure hour |\n",
    "| minute | Scheduled departure minute |"
   ]
  },
  {
   "cell_type": "markdown",
   "id": "d5561309-64c7-49c8-a025-04f121fb9834",
   "metadata": {},
   "source": [
    "### Predictors and Target Variable"
   ]
  },
  {
   "cell_type": "markdown",
   "id": "e8934012-e389-46d4-a049-b44b0927e8ff",
   "metadata": {},
   "source": [
    "Suggested Variables to Drop:\n",
    "- 'year': all data is from 2013, making this irrelevant (unless we combine with month + day to create datetime)\n",
    "- 'arr_time': might not be useful for our objective? not sure\n",
    "- 'arr_delay': also not sure. could be useful for potential marketing opportunities of services for delayed flyers, but I suspect most flyers want to be out of the airport at this point and there is little to gain from marketing for services upon arrival\n",
    "- 'tailnum': unique plane identifier; this shouldn't have any impact on delays\n",
    "- 'flight': unique flight identifier; this shoudln't have any impact on delays\n",
    "- 'dest': a lot of unique values with uneven representation\n",
    "- 'hour': displays increase in delay time as the hours pass, but pattern is similar to dep_time and shows high multicollinearity. will only keep dep_time\n",
    "\n",
    "\n",
    "Suggested Predictor Variables:\n",
    "- 'carrier': noted variation in departure delay across carriers\n",
    "- 'month': noted variation in departure delay according to month (possibly linked to holidays and may need to convert to categorical)\n",
    "- 'day': certain days are noted to show significant increase in departure delay time (as it relates to month, might need to combine with month into single variable for all encompassing datetime variable)\n",
    "- 'dep_time': scatterplot shows increase in delay time as the day progresses\n",
    "- 'origin': noted extended departure delay depending on which New York airport a flyer is traveling from\n",
    "- 'hour': displays increase in delay time as the hours pass, but pattern is similar to dep_time\n",
    "\n",
    "Suggested Target Variable:\n",
    "- 'dep_delay': if we want to focus our business brief on suggesting marketing strategies as they relate to delays, we may need to set an arbitrary departure delay time at which we distinguish between no/short delay and long delays\n",
    "    - i.e. 60 minute delay is the cutoff at which some flyers may consider looking around the airport for souvenirs/food/drink and 4 hours is the cutoff at which some flyers may consider looking for restaurants independent of the airport to dine at"
   ]
  },
  {
   "cell_type": "markdown",
   "id": "bda2a08c-e2e6-42be-a627-9ed3be1b48d2",
   "metadata": {},
   "source": [
    "The suggestions listed above do not necessarily mean we will follow. It's a preliminary listing of what we thought we might do later and could be different at the end of the notebook."
   ]
  },
  {
   "cell_type": "markdown",
   "id": "7fb84d12-566f-42f3-a531-88ad98c57aa1",
   "metadata": {},
   "source": [
    "---"
   ]
  },
  {
   "cell_type": "code",
   "execution_count": 2,
   "id": "31a18437",
   "metadata": {},
   "outputs": [
    {
     "data": {
      "text/plain": [
       "(32735, 16)"
      ]
     },
     "execution_count": 2,
     "metadata": {},
     "output_type": "execute_result"
    }
   ],
   "source": [
    "data = pd.read_csv('nyc-flights.csv')\n",
    "\n",
    "data.shape"
   ]
  },
  {
   "cell_type": "code",
   "execution_count": 3,
   "id": "ea0a6360-bb34-4610-b5e2-fa1ec351eb07",
   "metadata": {},
   "outputs": [
    {
     "data": {
      "text/plain": [
       "(102,)"
      ]
     },
     "execution_count": 3,
     "metadata": {},
     "output_type": "execute_result"
    }
   ],
   "source": [
    "data['dest'].unique().shape"
   ]
  },
  {
   "cell_type": "code",
   "execution_count": 4,
   "id": "056dafcf",
   "metadata": {},
   "outputs": [
    {
     "data": {
      "text/html": [
       "<div>\n",
       "<style scoped>\n",
       "    .dataframe tbody tr th:only-of-type {\n",
       "        vertical-align: middle;\n",
       "    }\n",
       "\n",
       "    .dataframe tbody tr th {\n",
       "        vertical-align: top;\n",
       "    }\n",
       "\n",
       "    .dataframe thead th {\n",
       "        text-align: right;\n",
       "    }\n",
       "</style>\n",
       "<table border=\"1\" class=\"dataframe\">\n",
       "  <thead>\n",
       "    <tr style=\"text-align: right;\">\n",
       "      <th></th>\n",
       "      <th>year</th>\n",
       "      <th>month</th>\n",
       "      <th>day</th>\n",
       "      <th>dep_time</th>\n",
       "      <th>dep_delay</th>\n",
       "      <th>arr_time</th>\n",
       "      <th>arr_delay</th>\n",
       "      <th>carrier</th>\n",
       "      <th>tailnum</th>\n",
       "      <th>flight</th>\n",
       "      <th>origin</th>\n",
       "      <th>dest</th>\n",
       "      <th>air_time</th>\n",
       "      <th>distance</th>\n",
       "      <th>hour</th>\n",
       "      <th>minute</th>\n",
       "    </tr>\n",
       "  </thead>\n",
       "  <tbody>\n",
       "    <tr>\n",
       "      <th>0</th>\n",
       "      <td>2013</td>\n",
       "      <td>6</td>\n",
       "      <td>30</td>\n",
       "      <td>940</td>\n",
       "      <td>15</td>\n",
       "      <td>1216</td>\n",
       "      <td>-4</td>\n",
       "      <td>VX</td>\n",
       "      <td>N626VA</td>\n",
       "      <td>407</td>\n",
       "      <td>JFK</td>\n",
       "      <td>LAX</td>\n",
       "      <td>313</td>\n",
       "      <td>2475</td>\n",
       "      <td>9</td>\n",
       "      <td>40</td>\n",
       "    </tr>\n",
       "    <tr>\n",
       "      <th>1</th>\n",
       "      <td>2013</td>\n",
       "      <td>5</td>\n",
       "      <td>7</td>\n",
       "      <td>1657</td>\n",
       "      <td>-3</td>\n",
       "      <td>2104</td>\n",
       "      <td>10</td>\n",
       "      <td>DL</td>\n",
       "      <td>N3760C</td>\n",
       "      <td>329</td>\n",
       "      <td>JFK</td>\n",
       "      <td>SJU</td>\n",
       "      <td>216</td>\n",
       "      <td>1598</td>\n",
       "      <td>16</td>\n",
       "      <td>57</td>\n",
       "    </tr>\n",
       "    <tr>\n",
       "      <th>2</th>\n",
       "      <td>2013</td>\n",
       "      <td>12</td>\n",
       "      <td>8</td>\n",
       "      <td>859</td>\n",
       "      <td>-1</td>\n",
       "      <td>1238</td>\n",
       "      <td>11</td>\n",
       "      <td>DL</td>\n",
       "      <td>N712TW</td>\n",
       "      <td>422</td>\n",
       "      <td>JFK</td>\n",
       "      <td>LAX</td>\n",
       "      <td>376</td>\n",
       "      <td>2475</td>\n",
       "      <td>8</td>\n",
       "      <td>59</td>\n",
       "    </tr>\n",
       "    <tr>\n",
       "      <th>3</th>\n",
       "      <td>2013</td>\n",
       "      <td>5</td>\n",
       "      <td>14</td>\n",
       "      <td>1841</td>\n",
       "      <td>-4</td>\n",
       "      <td>2122</td>\n",
       "      <td>-34</td>\n",
       "      <td>DL</td>\n",
       "      <td>N914DL</td>\n",
       "      <td>2391</td>\n",
       "      <td>JFK</td>\n",
       "      <td>TPA</td>\n",
       "      <td>135</td>\n",
       "      <td>1005</td>\n",
       "      <td>18</td>\n",
       "      <td>41</td>\n",
       "    </tr>\n",
       "    <tr>\n",
       "      <th>4</th>\n",
       "      <td>2013</td>\n",
       "      <td>7</td>\n",
       "      <td>21</td>\n",
       "      <td>1102</td>\n",
       "      <td>-3</td>\n",
       "      <td>1230</td>\n",
       "      <td>-8</td>\n",
       "      <td>9E</td>\n",
       "      <td>N823AY</td>\n",
       "      <td>3652</td>\n",
       "      <td>LGA</td>\n",
       "      <td>ORF</td>\n",
       "      <td>50</td>\n",
       "      <td>296</td>\n",
       "      <td>11</td>\n",
       "      <td>2</td>\n",
       "    </tr>\n",
       "  </tbody>\n",
       "</table>\n",
       "</div>"
      ],
      "text/plain": [
       "   year  month  day  dep_time  dep_delay  arr_time  arr_delay carrier tailnum  \\\n",
       "0  2013      6   30       940         15      1216         -4      VX  N626VA   \n",
       "1  2013      5    7      1657         -3      2104         10      DL  N3760C   \n",
       "2  2013     12    8       859         -1      1238         11      DL  N712TW   \n",
       "3  2013      5   14      1841         -4      2122        -34      DL  N914DL   \n",
       "4  2013      7   21      1102         -3      1230         -8      9E  N823AY   \n",
       "\n",
       "   flight origin dest  air_time  distance  hour  minute  \n",
       "0     407    JFK  LAX       313      2475     9      40  \n",
       "1     329    JFK  SJU       216      1598    16      57  \n",
       "2     422    JFK  LAX       376      2475     8      59  \n",
       "3    2391    JFK  TPA       135      1005    18      41  \n",
       "4    3652    LGA  ORF        50       296    11       2  "
      ]
     },
     "execution_count": 4,
     "metadata": {},
     "output_type": "execute_result"
    }
   ],
   "source": [
    "data.head()"
   ]
  },
  {
   "cell_type": "markdown",
   "id": "34c6e948-896f-40bd-8445-c42971f4baf0",
   "metadata": {},
   "source": [
    "---"
   ]
  },
  {
   "cell_type": "markdown",
   "id": "a3d31a3b-188a-4bcc-ab98-976841e9ee33",
   "metadata": {},
   "source": [
    "dep_time & hour & minute"
   ]
  },
  {
   "cell_type": "markdown",
   "id": "73e79b5c-8eee-47af-94ed-cdd50388570f",
   "metadata": {},
   "source": [
    "How different are dep_time from hour + minute"
   ]
  },
  {
   "cell_type": "code",
   "execution_count": 5,
   "id": "49966890-dbed-4ffa-8ebb-450f722e7c35",
   "metadata": {},
   "outputs": [
    {
     "data": {
      "text/html": [
       "<div>\n",
       "<style scoped>\n",
       "    .dataframe tbody tr th:only-of-type {\n",
       "        vertical-align: middle;\n",
       "    }\n",
       "\n",
       "    .dataframe tbody tr th {\n",
       "        vertical-align: top;\n",
       "    }\n",
       "\n",
       "    .dataframe thead th {\n",
       "        text-align: right;\n",
       "    }\n",
       "</style>\n",
       "<table border=\"1\" class=\"dataframe\">\n",
       "  <thead>\n",
       "    <tr style=\"text-align: right;\">\n",
       "      <th></th>\n",
       "      <th>dep_time</th>\n",
       "      <th>hour</th>\n",
       "      <th>minute</th>\n",
       "    </tr>\n",
       "  </thead>\n",
       "  <tbody>\n",
       "    <tr>\n",
       "      <th>0</th>\n",
       "      <td>940</td>\n",
       "      <td>9</td>\n",
       "      <td>40</td>\n",
       "    </tr>\n",
       "    <tr>\n",
       "      <th>1</th>\n",
       "      <td>1657</td>\n",
       "      <td>16</td>\n",
       "      <td>57</td>\n",
       "    </tr>\n",
       "    <tr>\n",
       "      <th>2</th>\n",
       "      <td>859</td>\n",
       "      <td>8</td>\n",
       "      <td>59</td>\n",
       "    </tr>\n",
       "    <tr>\n",
       "      <th>3</th>\n",
       "      <td>1841</td>\n",
       "      <td>18</td>\n",
       "      <td>41</td>\n",
       "    </tr>\n",
       "    <tr>\n",
       "      <th>4</th>\n",
       "      <td>1102</td>\n",
       "      <td>11</td>\n",
       "      <td>2</td>\n",
       "    </tr>\n",
       "    <tr>\n",
       "      <th>5</th>\n",
       "      <td>1817</td>\n",
       "      <td>18</td>\n",
       "      <td>17</td>\n",
       "    </tr>\n",
       "    <tr>\n",
       "      <th>6</th>\n",
       "      <td>1259</td>\n",
       "      <td>12</td>\n",
       "      <td>59</td>\n",
       "    </tr>\n",
       "    <tr>\n",
       "      <th>7</th>\n",
       "      <td>1920</td>\n",
       "      <td>19</td>\n",
       "      <td>20</td>\n",
       "    </tr>\n",
       "    <tr>\n",
       "      <th>8</th>\n",
       "      <td>725</td>\n",
       "      <td>7</td>\n",
       "      <td>25</td>\n",
       "    </tr>\n",
       "    <tr>\n",
       "      <th>9</th>\n",
       "      <td>1323</td>\n",
       "      <td>13</td>\n",
       "      <td>23</td>\n",
       "    </tr>\n",
       "  </tbody>\n",
       "</table>\n",
       "</div>"
      ],
      "text/plain": [
       "   dep_time  hour  minute\n",
       "0       940     9      40\n",
       "1      1657    16      57\n",
       "2       859     8      59\n",
       "3      1841    18      41\n",
       "4      1102    11       2\n",
       "5      1817    18      17\n",
       "6      1259    12      59\n",
       "7      1920    19      20\n",
       "8       725     7      25\n",
       "9      1323    13      23"
      ]
     },
     "execution_count": 5,
     "metadata": {},
     "output_type": "execute_result"
    }
   ],
   "source": [
    "data[['dep_time', 'hour', 'minute']].head(10)"
   ]
  },
  {
   "cell_type": "code",
   "execution_count": 6,
   "id": "9c04dcb1-3841-468c-bad0-c185bb73cf77",
   "metadata": {},
   "outputs": [
    {
     "data": {
      "text/html": [
       "<div>\n",
       "<style scoped>\n",
       "    .dataframe tbody tr th:only-of-type {\n",
       "        vertical-align: middle;\n",
       "    }\n",
       "\n",
       "    .dataframe tbody tr th {\n",
       "        vertical-align: top;\n",
       "    }\n",
       "\n",
       "    .dataframe thead th {\n",
       "        text-align: right;\n",
       "    }\n",
       "</style>\n",
       "<table border=\"1\" class=\"dataframe\">\n",
       "  <thead>\n",
       "    <tr style=\"text-align: right;\">\n",
       "      <th></th>\n",
       "      <th>dep_time</th>\n",
       "      <th>hour</th>\n",
       "      <th>minute</th>\n",
       "    </tr>\n",
       "  </thead>\n",
       "  <tbody>\n",
       "    <tr>\n",
       "      <th>32725</th>\n",
       "      <td>1437</td>\n",
       "      <td>14</td>\n",
       "      <td>37</td>\n",
       "    </tr>\n",
       "    <tr>\n",
       "      <th>32726</th>\n",
       "      <td>1558</td>\n",
       "      <td>15</td>\n",
       "      <td>58</td>\n",
       "    </tr>\n",
       "    <tr>\n",
       "      <th>32727</th>\n",
       "      <td>1716</td>\n",
       "      <td>17</td>\n",
       "      <td>16</td>\n",
       "    </tr>\n",
       "    <tr>\n",
       "      <th>32728</th>\n",
       "      <td>1923</td>\n",
       "      <td>19</td>\n",
       "      <td>23</td>\n",
       "    </tr>\n",
       "    <tr>\n",
       "      <th>32729</th>\n",
       "      <td>706</td>\n",
       "      <td>7</td>\n",
       "      <td>6</td>\n",
       "    </tr>\n",
       "    <tr>\n",
       "      <th>32730</th>\n",
       "      <td>752</td>\n",
       "      <td>7</td>\n",
       "      <td>52</td>\n",
       "    </tr>\n",
       "    <tr>\n",
       "      <th>32731</th>\n",
       "      <td>812</td>\n",
       "      <td>8</td>\n",
       "      <td>12</td>\n",
       "    </tr>\n",
       "    <tr>\n",
       "      <th>32732</th>\n",
       "      <td>1057</td>\n",
       "      <td>10</td>\n",
       "      <td>57</td>\n",
       "    </tr>\n",
       "    <tr>\n",
       "      <th>32733</th>\n",
       "      <td>844</td>\n",
       "      <td>8</td>\n",
       "      <td>44</td>\n",
       "    </tr>\n",
       "    <tr>\n",
       "      <th>32734</th>\n",
       "      <td>1813</td>\n",
       "      <td>18</td>\n",
       "      <td>13</td>\n",
       "    </tr>\n",
       "  </tbody>\n",
       "</table>\n",
       "</div>"
      ],
      "text/plain": [
       "       dep_time  hour  minute\n",
       "32725      1437    14      37\n",
       "32726      1558    15      58\n",
       "32727      1716    17      16\n",
       "32728      1923    19      23\n",
       "32729       706     7       6\n",
       "32730       752     7      52\n",
       "32731       812     8      12\n",
       "32732      1057    10      57\n",
       "32733       844     8      44\n",
       "32734      1813    18      13"
      ]
     },
     "execution_count": 6,
     "metadata": {},
     "output_type": "execute_result"
    }
   ],
   "source": [
    "data[['dep_time', 'hour', 'minute']].tail(10)"
   ]
  },
  {
   "cell_type": "markdown",
   "id": "c8a7b5b0-dc71-46bb-a29b-447ca5049574",
   "metadata": {},
   "source": [
    "When comparing, dep_time is the string representation of hour + minute (notice that single digit minute is concatenated by 0 in the front : 7hrs 6min -> 706). Because they these three columns are same, dropping hour and minute is fine"
   ]
  },
  {
   "cell_type": "code",
   "execution_count": 7,
   "id": "2d49da8b-13dd-4eff-83f5-2c93de3fbf94",
   "metadata": {},
   "outputs": [],
   "source": [
    "data.drop(columns=['hour', 'minute'], inplace=True)"
   ]
  },
  {
   "cell_type": "markdown",
   "id": "02b5e8be",
   "metadata": {},
   "source": [
    "---"
   ]
  },
  {
   "cell_type": "markdown",
   "id": "3027ccbf",
   "metadata": {},
   "source": [
    "year"
   ]
  },
  {
   "cell_type": "code",
   "execution_count": 8,
   "id": "eb6f143a",
   "metadata": {},
   "outputs": [
    {
     "data": {
      "text/plain": [
       "2013    32735\n",
       "Name: year, dtype: int64"
      ]
     },
     "execution_count": 8,
     "metadata": {},
     "output_type": "execute_result"
    }
   ],
   "source": [
    "data['year'].value_counts()"
   ]
  },
  {
   "cell_type": "markdown",
   "id": "a6a62847",
   "metadata": {},
   "source": [
    "Because the data is only from 2013 and no variance, dropping it won't have an impact"
   ]
  },
  {
   "cell_type": "code",
   "execution_count": 9,
   "id": "3720c4b2",
   "metadata": {},
   "outputs": [],
   "source": [
    "data.drop(columns='year', inplace=True)"
   ]
  },
  {
   "cell_type": "markdown",
   "id": "ca7ab9c9",
   "metadata": {},
   "source": [
    "---"
   ]
  },
  {
   "cell_type": "markdown",
   "id": "8e903062",
   "metadata": {},
   "source": [
    "month & day"
   ]
  },
  {
   "cell_type": "code",
   "execution_count": 10,
   "id": "068cd603",
   "metadata": {},
   "outputs": [],
   "source": [
    "month_count = data['month'].value_counts().sort_index()\n",
    "day_count = data['day'].value_counts().sort_index()"
   ]
  },
  {
   "cell_type": "code",
   "execution_count": 11,
   "id": "9acb9011",
   "metadata": {},
   "outputs": [
    {
     "data": {
      "image/png": "[encoded data removed]",
      "text/plain": [
       "<Figure size 1728x576 with 2 Axes>"
      ]
     },
     "metadata": {
      "needs_background": "light"
     },
     "output_type": "display_data"
    }
   ],
   "source": [
    "fig, ax = plt.subplots(1, 2, figsize=(24, 8))\n",
    "\n",
    "ax1 = sns.countplot(x=\"day\", data=data, ax=ax[0], palette='crest')\n",
    "\n",
    "for p in ax1.patches:\n",
    "    ax1.annotate('{:.1f}'.format(p.get_height()), (p.get_x(), p.get_height()+15), rotation=50)\n",
    "ax1.set_xlabel('Day', size=15)\n",
    "ax1.set_title('Count Plot of Day', size=20)\n",
    "    \n",
    "ax2 = sns.countplot(x=\"month\", data=data, ax=ax[1], palette='crest')\n",
    "\n",
    "for p in ax2.patches:\n",
    "    ax2.annotate('{:.1f}'.format(p.get_height()), (p.get_x(), p.get_height()+50))\n",
    "ax2.set_xlabel('Month', size=15)\n",
    "ax2.set_title('Count Plot of Month', size=20)\n",
    "\n",
    "plt.show();"
   ]
  },
  {
   "cell_type": "code",
   "execution_count": 12,
   "id": "115d5442-fd2f-4108-9ff6-f05f7ebe4c4a",
   "metadata": {},
   "outputs": [
    {
     "data": {
      "image/png": "[encoded data removed]",
      "text/plain": [
       "<Figure size 720x432 with 1 Axes>"
      ]
     },
     "metadata": {
      "needs_background": "light"
     },
     "output_type": "display_data"
    }
   ],
   "source": [
    "delay_month = data.groupby(['month'])[['dep_delay']].mean().sort_values('dep_delay', ascending=False).reset_index()\n",
    "\n",
    "fig, ax = plt.subplots(figsize=(10, 6))\n",
    "\n",
    "ax = sns.barplot(x='month', y='dep_delay', data=delay_month, ax=ax, palette='crest')\n",
    "\n",
    "ax.set_xlabel('Month', size=15)\n",
    "ax.set_ylabel('Departure Delay', size=15)\n",
    "ax.set_title('Bar Chart of Delay by Month', size=20)\n",
    "plt.show();"
   ]
  },
  {
   "cell_type": "markdown",
   "id": "84f7e057-361f-4b52-8160-fa92f086d02c",
   "metadata": {},
   "source": [
    "Larger range in departure delay with skew towards longer departure delays in June, July, and December. Steady increase in departure delays leading up until July, with a drop off until December. Are departure delays correlated with holidays/peak travel periods? Holiday seasons, spring break, and summer months have longer departure delays versus the fall months."
   ]
  },
  {
   "cell_type": "markdown",
   "id": "164b5207",
   "metadata": {},
   "source": [
    "Any specific day(s) of month have more data than other days?"
   ]
  },
  {
   "cell_type": "code",
   "execution_count": 13,
   "id": "37d5a598",
   "metadata": {},
   "outputs": [
    {
     "data": {
      "image/png": "[encoded data removed]",
      "text/plain": [
       "<Figure size 2304x1728 with 12 Axes>"
      ]
     },
     "metadata": {
      "needs_background": "light"
     },
     "output_type": "display_data"
    }
   ],
   "source": [
    "fig, ax = plt.subplots(4, 3, figsize=(8*4, 24))\n",
    "\n",
    "for i in range(12):\n",
    "    \n",
    "    row, col = i//3, i%3\n",
    "\n",
    "    plot = sns.countplot(x=\"day\", data=data[data['month']==i+1], ax=ax[row][col], palette='crest')\n",
    "    plot.set_xticklabels(plot.get_xticks(), rotation=90)\n",
    "    plot.set_xlabel('Month {}'.format(i+1), size=20)"
   ]
  },
  {
   "cell_type": "markdown",
   "id": "8541dd18",
   "metadata": {},
   "source": [
    "There seems to be no clear distinct patterns of days and months and they show quite similar distributions."
   ]
  },
  {
   "cell_type": "code",
   "execution_count": 14,
   "id": "3fd0678f",
   "metadata": {},
   "outputs": [
    {
     "data": {
      "text/html": [
       "<div>\n",
       "<style scoped>\n",
       "    .dataframe tbody tr th:only-of-type {\n",
       "        vertical-align: middle;\n",
       "    }\n",
       "\n",
       "    .dataframe tbody tr th {\n",
       "        vertical-align: top;\n",
       "    }\n",
       "\n",
       "    .dataframe thead th {\n",
       "        text-align: right;\n",
       "    }\n",
       "</style>\n",
       "<table border=\"1\" class=\"dataframe\">\n",
       "  <thead>\n",
       "    <tr style=\"text-align: right;\">\n",
       "      <th></th>\n",
       "      <th>day</th>\n",
       "      <th>month</th>\n",
       "    </tr>\n",
       "  </thead>\n",
       "  <tbody>\n",
       "    <tr>\n",
       "      <th>day</th>\n",
       "      <td>1.000000</td>\n",
       "      <td>0.010448</td>\n",
       "    </tr>\n",
       "    <tr>\n",
       "      <th>month</th>\n",
       "      <td>0.010448</td>\n",
       "      <td>1.000000</td>\n",
       "    </tr>\n",
       "  </tbody>\n",
       "</table>\n",
       "</div>"
      ],
      "text/plain": [
       "            day     month\n",
       "day    1.000000  0.010448\n",
       "month  0.010448  1.000000"
      ]
     },
     "execution_count": 14,
     "metadata": {},
     "output_type": "execute_result"
    }
   ],
   "source": [
    "data[['day', 'month']].corr()"
   ]
  },
  {
   "cell_type": "markdown",
   "id": "baedc7b6",
   "metadata": {},
   "source": [
    "And the correlation is also close to 0 and hence, it may be good to keep these two features."
   ]
  },
  {
   "cell_type": "code",
   "execution_count": 15,
   "id": "36ec0308-5841-4df9-b7ce-e84d609416c5",
   "metadata": {},
   "outputs": [
    {
     "data": {
      "text/html": [
       "<style type=\"text/css\">\n",
       "#T_3c7eb_row1_col8, #T_3c7eb_row4_col11, #T_3c7eb_row6_col9, #T_3c7eb_row7_col2, #T_3c7eb_row9_col6, #T_3c7eb_row10_col1, #T_3c7eb_row12_col5, #T_3c7eb_row16_col10, #T_3c7eb_row17_col3, #T_3c7eb_row22_col4, #T_3c7eb_row27_col7, #T_3c7eb_row30_col0 {\n",
       "  background-color: lightgreen;\n",
       "}\n",
       "</style>\n",
       "<table id=\"T_3c7eb_\">\n",
       "  <thead>\n",
       "    <tr>\n",
       "      <th class=\"index_name level0\" >month</th>\n",
       "      <th class=\"col_heading level0 col0\" >1</th>\n",
       "      <th class=\"col_heading level0 col1\" >2</th>\n",
       "      <th class=\"col_heading level0 col2\" >3</th>\n",
       "      <th class=\"col_heading level0 col3\" >4</th>\n",
       "      <th class=\"col_heading level0 col4\" >5</th>\n",
       "      <th class=\"col_heading level0 col5\" >6</th>\n",
       "      <th class=\"col_heading level0 col6\" >7</th>\n",
       "      <th class=\"col_heading level0 col7\" >8</th>\n",
       "      <th class=\"col_heading level0 col8\" >9</th>\n",
       "      <th class=\"col_heading level0 col9\" >10</th>\n",
       "      <th class=\"col_heading level0 col10\" >11</th>\n",
       "      <th class=\"col_heading level0 col11\" >12</th>\n",
       "    </tr>\n",
       "    <tr>\n",
       "      <th class=\"index_name level0\" >day</th>\n",
       "      <th class=\"blank col0\" >&nbsp;</th>\n",
       "      <th class=\"blank col1\" >&nbsp;</th>\n",
       "      <th class=\"blank col2\" >&nbsp;</th>\n",
       "      <th class=\"blank col3\" >&nbsp;</th>\n",
       "      <th class=\"blank col4\" >&nbsp;</th>\n",
       "      <th class=\"blank col5\" >&nbsp;</th>\n",
       "      <th class=\"blank col6\" >&nbsp;</th>\n",
       "      <th class=\"blank col7\" >&nbsp;</th>\n",
       "      <th class=\"blank col8\" >&nbsp;</th>\n",
       "      <th class=\"blank col9\" >&nbsp;</th>\n",
       "      <th class=\"blank col10\" >&nbsp;</th>\n",
       "      <th class=\"blank col11\" >&nbsp;</th>\n",
       "    </tr>\n",
       "  </thead>\n",
       "  <tbody>\n",
       "    <tr>\n",
       "      <th id=\"T_3c7eb_level0_row0\" class=\"row_heading level0 row0\" >1</th>\n",
       "      <td id=\"T_3c7eb_row0_col0\" class=\"data row0 col0\" >8.377778</td>\n",
       "      <td id=\"T_3c7eb_row0_col1\" class=\"data row0 col1\" >9.488636</td>\n",
       "      <td id=\"T_3c7eb_row0_col2\" class=\"data row0 col2\" >14.810526</td>\n",
       "      <td id=\"T_3c7eb_row0_col3\" class=\"data row0 col3\" >14.903509</td>\n",
       "      <td id=\"T_3c7eb_row0_col4\" class=\"data row0 col4\" >1.654545</td>\n",
       "      <td id=\"T_3c7eb_row0_col5\" class=\"data row0 col5\" >3.079365</td>\n",
       "      <td id=\"T_3c7eb_row0_col6\" class=\"data row0 col6\" >57.434783</td>\n",
       "      <td id=\"T_3c7eb_row0_col7\" class=\"data row0 col7\" >30.537634</td>\n",
       "      <td id=\"T_3c7eb_row0_col8\" class=\"data row0 col8\" >1.863014</td>\n",
       "      <td id=\"T_3c7eb_row0_col9\" class=\"data row0 col9\" >-0.754902</td>\n",
       "      <td id=\"T_3c7eb_row0_col10\" class=\"data row0 col10\" >12.505618</td>\n",
       "      <td id=\"T_3c7eb_row0_col11\" class=\"data row0 col11\" >8.608696</td>\n",
       "    </tr>\n",
       "    <tr>\n",
       "      <th id=\"T_3c7eb_level0_row1\" class=\"row_heading level0 row1\" >2</th>\n",
       "      <td id=\"T_3c7eb_row1_col0\" class=\"data row1 col0\" >8.653333</td>\n",
       "      <td id=\"T_3c7eb_row1_col1\" class=\"data row1 col1\" >5.207792</td>\n",
       "      <td id=\"T_3c7eb_row1_col2\" class=\"data row1 col2\" >10.280000</td>\n",
       "      <td id=\"T_3c7eb_row1_col3\" class=\"data row1 col3\" >10.069767</td>\n",
       "      <td id=\"T_3c7eb_row1_col4\" class=\"data row1 col4\" >5.940476</td>\n",
       "      <td id=\"T_3c7eb_row1_col5\" class=\"data row1 col5\" >31.461538</td>\n",
       "      <td id=\"T_3c7eb_row1_col6\" class=\"data row1 col6\" >19.882979</td>\n",
       "      <td id=\"T_3c7eb_row1_col7\" class=\"data row1 col7\" >16.828283</td>\n",
       "      <td id=\"T_3c7eb_row1_col8\" class=\"data row1 col8\" >57.395604</td>\n",
       "      <td id=\"T_3c7eb_row1_col9\" class=\"data row1 col9\" >1.221154</td>\n",
       "      <td id=\"T_3c7eb_row1_col10\" class=\"data row1 col10\" >2.320000</td>\n",
       "      <td id=\"T_3c7eb_row1_col11\" class=\"data row1 col11\" >8.963303</td>\n",
       "    </tr>\n",
       "    <tr>\n",
       "      <th id=\"T_3c7eb_level0_row2\" class=\"row_heading level0 row2\" >3</th>\n",
       "      <td id=\"T_3c7eb_row2_col0\" class=\"data row2 col0\" >13.366667</td>\n",
       "      <td id=\"T_3c7eb_row2_col1\" class=\"data row2 col1\" >5.752809</td>\n",
       "      <td id=\"T_3c7eb_row2_col2\" class=\"data row2 col2\" >6.080808</td>\n",
       "      <td id=\"T_3c7eb_row2_col3\" class=\"data row2 col3\" >4.305263</td>\n",
       "      <td id=\"T_3c7eb_row2_col4\" class=\"data row2 col4\" >16.842105</td>\n",
       "      <td id=\"T_3c7eb_row2_col5\" class=\"data row2 col5\" >22.821782</td>\n",
       "      <td id=\"T_3c7eb_row2_col6\" class=\"data row2 col6\" >24.500000</td>\n",
       "      <td id=\"T_3c7eb_row2_col7\" class=\"data row2 col7\" >10.775000</td>\n",
       "      <td id=\"T_3c7eb_row2_col8\" class=\"data row2 col8\" >3.850000</td>\n",
       "      <td id=\"T_3c7eb_row2_col9\" class=\"data row2 col9\" >3.750000</td>\n",
       "      <td id=\"T_3c7eb_row2_col10\" class=\"data row2 col10\" >6.175824</td>\n",
       "      <td id=\"T_3c7eb_row2_col11\" class=\"data row2 col11\" >6.216867</td>\n",
       "    </tr>\n",
       "    <tr>\n",
       "      <th id=\"T_3c7eb_level0_row3\" class=\"row_heading level0 row3\" >4</th>\n",
       "      <td id=\"T_3c7eb_row3_col0\" class=\"data row3 col0\" >9.240000</td>\n",
       "      <td id=\"T_3c7eb_row3_col1\" class=\"data row3 col1\" >11.576923</td>\n",
       "      <td id=\"T_3c7eb_row3_col2\" class=\"data row3 col2\" >8.705263</td>\n",
       "      <td id=\"T_3c7eb_row3_col3\" class=\"data row3 col3\" >6.883721</td>\n",
       "      <td id=\"T_3c7eb_row3_col4\" class=\"data row3 col4\" >13.264706</td>\n",
       "      <td id=\"T_3c7eb_row3_col5\" class=\"data row3 col5\" >5.828283</td>\n",
       "      <td id=\"T_3c7eb_row3_col6\" class=\"data row3 col6\" >9.144737</td>\n",
       "      <td id=\"T_3c7eb_row3_col7\" class=\"data row3 col7\" >9.884211</td>\n",
       "      <td id=\"T_3c7eb_row3_col8\" class=\"data row3 col8\" >1.627907</td>\n",
       "      <td id=\"T_3c7eb_row3_col9\" class=\"data row3 col9\" >6.126437</td>\n",
       "      <td id=\"T_3c7eb_row3_col10\" class=\"data row3 col10\" >5.138889</td>\n",
       "      <td id=\"T_3c7eb_row3_col11\" class=\"data row3 col11\" >4.315789</td>\n",
       "    </tr>\n",
       "    <tr>\n",
       "      <th id=\"T_3c7eb_level0_row4\" class=\"row_heading level0 row4\" >5</th>\n",
       "      <td id=\"T_3c7eb_row4_col0\" class=\"data row4 col0\" >8.144928</td>\n",
       "      <td id=\"T_3c7eb_row4_col1\" class=\"data row4 col1\" >1.483146</td>\n",
       "      <td id=\"T_3c7eb_row4_col2\" class=\"data row4 col2\" >6.206186</td>\n",
       "      <td id=\"T_3c7eb_row4_col3\" class=\"data row4 col3\" >4.728972</td>\n",
       "      <td id=\"T_3c7eb_row4_col4\" class=\"data row4 col4\" >1.725000</td>\n",
       "      <td id=\"T_3c7eb_row4_col5\" class=\"data row4 col5\" >0.484536</td>\n",
       "      <td id=\"T_3c7eb_row4_col6\" class=\"data row4 col6\" >4.275000</td>\n",
       "      <td id=\"T_3c7eb_row4_col7\" class=\"data row4 col7\" >10.393617</td>\n",
       "      <td id=\"T_3c7eb_row4_col8\" class=\"data row4 col8\" >1.641026</td>\n",
       "      <td id=\"T_3c7eb_row4_col9\" class=\"data row4 col9\" >4.189655</td>\n",
       "      <td id=\"T_3c7eb_row4_col10\" class=\"data row4 col10\" >1.957895</td>\n",
       "      <td id=\"T_3c7eb_row4_col11\" class=\"data row4 col11\" >51.712500</td>\n",
       "    </tr>\n",
       "    <tr>\n",
       "      <th id=\"T_3c7eb_level0_row5\" class=\"row_heading level0 row5\" >6</th>\n",
       "      <td id=\"T_3c7eb_row5_col0\" class=\"data row5 col0\" >6.808219</td>\n",
       "      <td id=\"T_3c7eb_row5_col1\" class=\"data row5 col1\" >3.883117</td>\n",
       "      <td id=\"T_3c7eb_row5_col2\" class=\"data row5 col2\" >20.804878</td>\n",
       "      <td id=\"T_3c7eb_row5_col3\" class=\"data row5 col3\" >1.974684</td>\n",
       "      <td id=\"T_3c7eb_row5_col4\" class=\"data row5 col4\" >6.166667</td>\n",
       "      <td id=\"T_3c7eb_row5_col5\" class=\"data row5 col5\" >1.988764</td>\n",
       "      <td id=\"T_3c7eb_row5_col6\" class=\"data row5 col6\" >3.135802</td>\n",
       "      <td id=\"T_3c7eb_row5_col7\" class=\"data row5 col7\" >11.178571</td>\n",
       "      <td id=\"T_3c7eb_row5_col8\" class=\"data row5 col8\" >-1.065934</td>\n",
       "      <td id=\"T_3c7eb_row5_col9\" class=\"data row5 col9\" >5.868132</td>\n",
       "      <td id=\"T_3c7eb_row5_col10\" class=\"data row5 col10\" >1.140000</td>\n",
       "      <td id=\"T_3c7eb_row5_col11\" class=\"data row5 col11\" >12.680851</td>\n",
       "    </tr>\n",
       "    <tr>\n",
       "      <th id=\"T_3c7eb_level0_row6\" class=\"row_heading level0 row6\" >7</th>\n",
       "      <td id=\"T_3c7eb_row6_col0\" class=\"data row6 col0\" >3.595745</td>\n",
       "      <td id=\"T_3c7eb_row6_col1\" class=\"data row6 col1\" >3.988506</td>\n",
       "      <td id=\"T_3c7eb_row6_col2\" class=\"data row6 col2\" >16.218750</td>\n",
       "      <td id=\"T_3c7eb_row6_col3\" class=\"data row6 col3\" >1.877358</td>\n",
       "      <td id=\"T_3c7eb_row6_col4\" class=\"data row6 col4\" >3.808511</td>\n",
       "      <td id=\"T_3c7eb_row6_col5\" class=\"data row6 col5\" >28.512821</td>\n",
       "      <td id=\"T_3c7eb_row6_col6\" class=\"data row6 col6\" >30.282353</td>\n",
       "      <td id=\"T_3c7eb_row6_col7\" class=\"data row6 col7\" >7.721649</td>\n",
       "      <td id=\"T_3c7eb_row6_col8\" class=\"data row6 col8\" >0.542857</td>\n",
       "      <td id=\"T_3c7eb_row6_col9\" class=\"data row6 col9\" >46.011364</td>\n",
       "      <td id=\"T_3c7eb_row6_col10\" class=\"data row6 col10\" >16.048544</td>\n",
       "      <td id=\"T_3c7eb_row6_col11\" class=\"data row6 col11\" >10.259259</td>\n",
       "    </tr>\n",
       "    <tr>\n",
       "      <th id=\"T_3c7eb_level0_row7\" class=\"row_heading level0 row7\" >8</th>\n",
       "      <td id=\"T_3c7eb_row7_col0\" class=\"data row7 col0\" >3.553191</td>\n",
       "      <td id=\"T_3c7eb_row7_col1\" class=\"data row7 col1\" >16.743590</td>\n",
       "      <td id=\"T_3c7eb_row7_col2\" class=\"data row7 col2\" >87.888889</td>\n",
       "      <td id=\"T_3c7eb_row7_col3\" class=\"data row7 col3\" >3.294737</td>\n",
       "      <td id=\"T_3c7eb_row7_col4\" class=\"data row7 col4\" >38.683673</td>\n",
       "      <td id=\"T_3c7eb_row7_col5\" class=\"data row7 col5\" >12.720588</td>\n",
       "      <td id=\"T_3c7eb_row7_col6\" class=\"data row7 col6\" >39.271605</td>\n",
       "      <td id=\"T_3c7eb_row7_col7\" class=\"data row7 col7\" >33.055556</td>\n",
       "      <td id=\"T_3c7eb_row7_col8\" class=\"data row7 col8\" >3.366667</td>\n",
       "      <td id=\"T_3c7eb_row7_col9\" class=\"data row7 col9\" >0.250000</td>\n",
       "      <td id=\"T_3c7eb_row7_col10\" class=\"data row7 col10\" >5.463918</td>\n",
       "      <td id=\"T_3c7eb_row7_col11\" class=\"data row7 col11\" >18.904110</td>\n",
       "    </tr>\n",
       "    <tr>\n",
       "      <th id=\"T_3c7eb_level0_row8\" class=\"row_heading level0 row8\" >9</th>\n",
       "      <td id=\"T_3c7eb_row8_col0\" class=\"data row8 col0\" >12.237113</td>\n",
       "      <td id=\"T_3c7eb_row8_col1\" class=\"data row8 col1\" >22.500000</td>\n",
       "      <td id=\"T_3c7eb_row8_col2\" class=\"data row8 col2\" >8.816901</td>\n",
       "      <td id=\"T_3c7eb_row8_col3\" class=\"data row8 col3\" >11.021978</td>\n",
       "      <td id=\"T_3c7eb_row8_col4\" class=\"data row8 col4\" >19.921739</td>\n",
       "      <td id=\"T_3c7eb_row8_col5\" class=\"data row8 col5\" >11.457143</td>\n",
       "      <td id=\"T_3c7eb_row8_col6\" class=\"data row8 col6\" >29.945055</td>\n",
       "      <td id=\"T_3c7eb_row8_col7\" class=\"data row8 col7\" >26.535354</td>\n",
       "      <td id=\"T_3c7eb_row8_col8\" class=\"data row8 col8\" >-1.040000</td>\n",
       "      <td id=\"T_3c7eb_row8_col9\" class=\"data row8 col9\" >4.770833</td>\n",
       "      <td id=\"T_3c7eb_row8_col10\" class=\"data row8 col10\" >2.325301</td>\n",
       "      <td id=\"T_3c7eb_row8_col11\" class=\"data row8 col11\" >34.564706</td>\n",
       "    </tr>\n",
       "    <tr>\n",
       "      <th id=\"T_3c7eb_level0_row9\" class=\"row_heading level0 row9\" >10</th>\n",
       "      <td id=\"T_3c7eb_row9_col0\" class=\"data row9 col0\" >2.802083</td>\n",
       "      <td id=\"T_3c7eb_row9_col1\" class=\"data row9 col1\" >16.646341</td>\n",
       "      <td id=\"T_3c7eb_row9_col2\" class=\"data row9 col2\" >4.383721</td>\n",
       "      <td id=\"T_3c7eb_row9_col3\" class=\"data row9 col3\" >24.067308</td>\n",
       "      <td id=\"T_3c7eb_row9_col4\" class=\"data row9 col4\" >13.730769</td>\n",
       "      <td id=\"T_3c7eb_row9_col5\" class=\"data row9 col5\" >39.704545</td>\n",
       "      <td id=\"T_3c7eb_row9_col6\" class=\"data row9 col6\" >63.380282</td>\n",
       "      <td id=\"T_3c7eb_row9_col7\" class=\"data row9 col7\" >8.565789</td>\n",
       "      <td id=\"T_3c7eb_row9_col8\" class=\"data row9 col8\" >3.545455</td>\n",
       "      <td id=\"T_3c7eb_row9_col9\" class=\"data row9 col9\" >14.276596</td>\n",
       "      <td id=\"T_3c7eb_row9_col10\" class=\"data row9 col10\" >7.207792</td>\n",
       "      <td id=\"T_3c7eb_row9_col11\" class=\"data row9 col11\" >25.159420</td>\n",
       "    </tr>\n",
       "    <tr>\n",
       "      <th id=\"T_3c7eb_level0_row10\" class=\"row_heading level0 row10\" >11</th>\n",
       "      <td id=\"T_3c7eb_row10_col0\" class=\"data row10 col0\" >-0.880952</td>\n",
       "      <td id=\"T_3c7eb_row10_col1\" class=\"data row10 col1\" >39.817073</td>\n",
       "      <td id=\"T_3c7eb_row10_col2\" class=\"data row10 col2\" >10.148148</td>\n",
       "      <td id=\"T_3c7eb_row10_col3\" class=\"data row10 col3\" >26.471910</td>\n",
       "      <td id=\"T_3c7eb_row10_col4\" class=\"data row10 col4\" >27.241935</td>\n",
       "      <td id=\"T_3c7eb_row10_col5\" class=\"data row10 col5\" >13.729167</td>\n",
       "      <td id=\"T_3c7eb_row10_col6\" class=\"data row10 col6\" >19.740385</td>\n",
       "      <td id=\"T_3c7eb_row10_col7\" class=\"data row10 col7\" >7.741935</td>\n",
       "      <td id=\"T_3c7eb_row10_col8\" class=\"data row10 col8\" >11.558140</td>\n",
       "      <td id=\"T_3c7eb_row10_col9\" class=\"data row10 col9\" >36.972222</td>\n",
       "      <td id=\"T_3c7eb_row10_col10\" class=\"data row10 col10\" >5.846847</td>\n",
       "      <td id=\"T_3c7eb_row10_col11\" class=\"data row10 col11\" >5.767677</td>\n",
       "    </tr>\n",
       "    <tr>\n",
       "      <th id=\"T_3c7eb_level0_row11\" class=\"row_heading level0 row11\" >12</th>\n",
       "      <td id=\"T_3c7eb_row11_col0\" class=\"data row11 col0\" >-1.400000</td>\n",
       "      <td id=\"T_3c7eb_row11_col1\" class=\"data row11 col1\" >4.965909</td>\n",
       "      <td id=\"T_3c7eb_row11_col2\" class=\"data row11 col2\" >33.903614</td>\n",
       "      <td id=\"T_3c7eb_row11_col3\" class=\"data row11 col3\" >30.787879</td>\n",
       "      <td id=\"T_3c7eb_row11_col4\" class=\"data row11 col4\" >2.041096</td>\n",
       "      <td id=\"T_3c7eb_row11_col5\" class=\"data row11 col5\" >2.903226</td>\n",
       "      <td id=\"T_3c7eb_row11_col6\" class=\"data row11 col6\" >40.363636</td>\n",
       "      <td id=\"T_3c7eb_row11_col7\" class=\"data row11 col7\" >5.382022</td>\n",
       "      <td id=\"T_3c7eb_row11_col8\" class=\"data row11 col8\" >50.164384</td>\n",
       "      <td id=\"T_3c7eb_row11_col9\" class=\"data row11 col9\" >1.447368</td>\n",
       "      <td id=\"T_3c7eb_row11_col10\" class=\"data row11 col10\" >4.100000</td>\n",
       "      <td id=\"T_3c7eb_row11_col11\" class=\"data row11 col11\" >7.259615</td>\n",
       "    </tr>\n",
       "    <tr>\n",
       "      <th id=\"T_3c7eb_level0_row12\" class=\"row_heading level0 row12\" >13</th>\n",
       "      <td id=\"T_3c7eb_row12_col0\" class=\"data row12 col0\" >25.855556</td>\n",
       "      <td id=\"T_3c7eb_row12_col1\" class=\"data row12 col1\" >5.076923</td>\n",
       "      <td id=\"T_3c7eb_row12_col2\" class=\"data row12 col2\" >5.225806</td>\n",
       "      <td id=\"T_3c7eb_row12_col3\" class=\"data row12 col3\" >3.171429</td>\n",
       "      <td id=\"T_3c7eb_row12_col4\" class=\"data row12 col4\" >12.223140</td>\n",
       "      <td id=\"T_3c7eb_row12_col5\" class=\"data row12 col5\" >51.217391</td>\n",
       "      <td id=\"T_3c7eb_row12_col6\" class=\"data row12 col6\" >21.911392</td>\n",
       "      <td id=\"T_3c7eb_row12_col7\" class=\"data row12 col7\" >24.771429</td>\n",
       "      <td id=\"T_3c7eb_row12_col8\" class=\"data row12 col8\" >15.141304</td>\n",
       "      <td id=\"T_3c7eb_row12_col9\" class=\"data row12 col9\" >3.931034</td>\n",
       "      <td id=\"T_3c7eb_row12_col10\" class=\"data row12 col10\" >2.461538</td>\n",
       "      <td id=\"T_3c7eb_row12_col11\" class=\"data row12 col11\" >6.560000</td>\n",
       "    </tr>\n",
       "    <tr>\n",
       "      <th id=\"T_3c7eb_level0_row13\" class=\"row_heading level0 row13\" >14</th>\n",
       "      <td id=\"T_3c7eb_row13_col0\" class=\"data row13 col0\" >-0.087500</td>\n",
       "      <td id=\"T_3c7eb_row13_col1\" class=\"data row13 col1\" >8.696203</td>\n",
       "      <td id=\"T_3c7eb_row13_col2\" class=\"data row13 col2\" >8.101010</td>\n",
       "      <td id=\"T_3c7eb_row13_col3\" class=\"data row13 col3\" >7.224299</td>\n",
       "      <td id=\"T_3c7eb_row13_col4\" class=\"data row13 col4\" >1.339450</td>\n",
       "      <td id=\"T_3c7eb_row13_col5\" class=\"data row13 col5\" >24.556701</td>\n",
       "      <td id=\"T_3c7eb_row13_col6\" class=\"data row13 col6\" >18.537634</td>\n",
       "      <td id=\"T_3c7eb_row13_col7\" class=\"data row13 col7\" >12.197674</td>\n",
       "      <td id=\"T_3c7eb_row13_col8\" class=\"data row13 col8\" >3.492063</td>\n",
       "      <td id=\"T_3c7eb_row13_col9\" class=\"data row13 col9\" >3.884211</td>\n",
       "      <td id=\"T_3c7eb_row13_col10\" class=\"data row13 col10\" >0.913793</td>\n",
       "      <td id=\"T_3c7eb_row13_col11\" class=\"data row13 col11\" >20.483871</td>\n",
       "    </tr>\n",
       "    <tr>\n",
       "      <th id=\"T_3c7eb_level0_row14\" class=\"row_heading level0 row14\" >15</th>\n",
       "      <td id=\"T_3c7eb_row14_col0\" class=\"data row14 col0\" >4.704082</td>\n",
       "      <td id=\"T_3c7eb_row14_col1\" class=\"data row14 col1\" >7.584906</td>\n",
       "      <td id=\"T_3c7eb_row14_col2\" class=\"data row14 col2\" >16.401869</td>\n",
       "      <td id=\"T_3c7eb_row14_col3\" class=\"data row14 col3\" >5.889908</td>\n",
       "      <td id=\"T_3c7eb_row14_col4\" class=\"data row14 col4\" >8.857143</td>\n",
       "      <td id=\"T_3c7eb_row14_col5\" class=\"data row14 col5\" >2.468354</td>\n",
       "      <td id=\"T_3c7eb_row14_col6\" class=\"data row14 col6\" >3.477778</td>\n",
       "      <td id=\"T_3c7eb_row14_col7\" class=\"data row14 col7\" >12.793478</td>\n",
       "      <td id=\"T_3c7eb_row14_col8\" class=\"data row14 col8\" >5.212500</td>\n",
       "      <td id=\"T_3c7eb_row14_col9\" class=\"data row14 col9\" >4.653465</td>\n",
       "      <td id=\"T_3c7eb_row14_col10\" class=\"data row14 col10\" >0.309278</td>\n",
       "      <td id=\"T_3c7eb_row14_col11\" class=\"data row14 col11\" >22.840426</td>\n",
       "    </tr>\n",
       "    <tr>\n",
       "      <th id=\"T_3c7eb_level0_row15\" class=\"row_heading level0 row15\" >16</th>\n",
       "      <td id=\"T_3c7eb_row15_col0\" class=\"data row15 col0\" >19.436782</td>\n",
       "      <td id=\"T_3c7eb_row15_col1\" class=\"data row15 col1\" >7.656250</td>\n",
       "      <td id=\"T_3c7eb_row15_col2\" class=\"data row15 col2\" >11.911392</td>\n",
       "      <td id=\"T_3c7eb_row15_col3\" class=\"data row15 col3\" >8.000000</td>\n",
       "      <td id=\"T_3c7eb_row15_col4\" class=\"data row15 col4\" >9.343137</td>\n",
       "      <td id=\"T_3c7eb_row15_col5\" class=\"data row15 col5\" >6.722222</td>\n",
       "      <td id=\"T_3c7eb_row15_col6\" class=\"data row15 col6\" >8.970149</td>\n",
       "      <td id=\"T_3c7eb_row15_col7\" class=\"data row15 col7\" >6.048544</td>\n",
       "      <td id=\"T_3c7eb_row15_col8\" class=\"data row15 col8\" >3.550000</td>\n",
       "      <td id=\"T_3c7eb_row15_col9\" class=\"data row15 col9\" >-0.642105</td>\n",
       "      <td id=\"T_3c7eb_row15_col10\" class=\"data row15 col10\" >3.142857</td>\n",
       "      <td id=\"T_3c7eb_row15_col11\" class=\"data row15 col11\" >9.681319</td>\n",
       "    </tr>\n",
       "    <tr>\n",
       "      <th id=\"T_3c7eb_level0_row16\" class=\"row_heading level0 row16\" >17</th>\n",
       "      <td id=\"T_3c7eb_row16_col0\" class=\"data row16 col0\" >5.612245</td>\n",
       "      <td id=\"T_3c7eb_row16_col1\" class=\"data row16 col1\" >8.848101</td>\n",
       "      <td id=\"T_3c7eb_row16_col2\" class=\"data row16 col2\" >11.311688</td>\n",
       "      <td id=\"T_3c7eb_row16_col3\" class=\"data row16 col3\" >9.813953</td>\n",
       "      <td id=\"T_3c7eb_row16_col4\" class=\"data row16 col4\" >7.495327</td>\n",
       "      <td id=\"T_3c7eb_row16_col5\" class=\"data row16 col5\" >18.095238</td>\n",
       "      <td id=\"T_3c7eb_row16_col6\" class=\"data row16 col6\" >12.418367</td>\n",
       "      <td id=\"T_3c7eb_row16_col7\" class=\"data row16 col7\" >11.527027</td>\n",
       "      <td id=\"T_3c7eb_row16_col8\" class=\"data row16 col8\" >-2.205882</td>\n",
       "      <td id=\"T_3c7eb_row16_col9\" class=\"data row16 col9\" >9.726316</td>\n",
       "      <td id=\"T_3c7eb_row16_col10\" class=\"data row16 col10\" >27.792683</td>\n",
       "      <td id=\"T_3c7eb_row16_col11\" class=\"data row16 col11\" >37.521739</td>\n",
       "    </tr>\n",
       "    <tr>\n",
       "      <th id=\"T_3c7eb_level0_row17\" class=\"row_heading level0 row17\" >18</th>\n",
       "      <td id=\"T_3c7eb_row17_col0\" class=\"data row17 col0\" >9.967033</td>\n",
       "      <td id=\"T_3c7eb_row17_col1\" class=\"data row17 col1\" >7.459770</td>\n",
       "      <td id=\"T_3c7eb_row17_col2\" class=\"data row17 col2\" >27.833333</td>\n",
       "      <td id=\"T_3c7eb_row17_col3\" class=\"data row17 col3\" >52.139785</td>\n",
       "      <td id=\"T_3c7eb_row17_col4\" class=\"data row17 col4\" >0.086957</td>\n",
       "      <td id=\"T_3c7eb_row17_col5\" class=\"data row17 col5\" >36.578313</td>\n",
       "      <td id=\"T_3c7eb_row17_col6\" class=\"data row17 col6\" >18.024691</td>\n",
       "      <td id=\"T_3c7eb_row17_col7\" class=\"data row17 col7\" >11.426966</td>\n",
       "      <td id=\"T_3c7eb_row17_col8\" class=\"data row17 col8\" >-2.121212</td>\n",
       "      <td id=\"T_3c7eb_row17_col9\" class=\"data row17 col9\" >6.270000</td>\n",
       "      <td id=\"T_3c7eb_row17_col10\" class=\"data row17 col10\" >5.521739</td>\n",
       "      <td id=\"T_3c7eb_row17_col11\" class=\"data row17 col11\" >14.329545</td>\n",
       "    </tr>\n",
       "    <tr>\n",
       "      <th id=\"T_3c7eb_level0_row18\" class=\"row_heading level0 row18\" >19</th>\n",
       "      <td id=\"T_3c7eb_row18_col0\" class=\"data row18 col0\" >1.958333</td>\n",
       "      <td id=\"T_3c7eb_row18_col1\" class=\"data row18 col1\" >16.451613</td>\n",
       "      <td id=\"T_3c7eb_row18_col2\" class=\"data row18 col2\" >25.156863</td>\n",
       "      <td id=\"T_3c7eb_row18_col3\" class=\"data row18 col3\" >38.679012</td>\n",
       "      <td id=\"T_3c7eb_row18_col4\" class=\"data row18 col4\" >32.532609</td>\n",
       "      <td id=\"T_3c7eb_row18_col5\" class=\"data row18 col5\" >9.066667</td>\n",
       "      <td id=\"T_3c7eb_row18_col6\" class=\"data row18 col6\" >12.936842</td>\n",
       "      <td id=\"T_3c7eb_row18_col7\" class=\"data row18 col7\" >2.684783</td>\n",
       "      <td id=\"T_3c7eb_row18_col8\" class=\"data row18 col8\" >10.500000</td>\n",
       "      <td id=\"T_3c7eb_row18_col9\" class=\"data row18 col9\" >-0.628571</td>\n",
       "      <td id=\"T_3c7eb_row18_col10\" class=\"data row18 col10\" >3.358491</td>\n",
       "      <td id=\"T_3c7eb_row18_col11\" class=\"data row18 col11\" >24.174757</td>\n",
       "    </tr>\n",
       "    <tr>\n",
       "      <th id=\"T_3c7eb_level0_row19\" class=\"row_heading level0 row19\" >20</th>\n",
       "      <td id=\"T_3c7eb_row19_col0\" class=\"data row19 col0\" >6.581081</td>\n",
       "      <td id=\"T_3c7eb_row19_col1\" class=\"data row19 col1\" >10.333333</td>\n",
       "      <td id=\"T_3c7eb_row19_col2\" class=\"data row19 col2\" >2.772727</td>\n",
       "      <td id=\"T_3c7eb_row19_col3\" class=\"data row19 col3\" >5.896104</td>\n",
       "      <td id=\"T_3c7eb_row19_col4\" class=\"data row19 col4\" >15.662338</td>\n",
       "      <td id=\"T_3c7eb_row19_col5\" class=\"data row19 col5\" >2.625000</td>\n",
       "      <td id=\"T_3c7eb_row19_col6\" class=\"data row19 col6\" >15.670455</td>\n",
       "      <td id=\"T_3c7eb_row19_col7\" class=\"data row19 col7\" >2.150000</td>\n",
       "      <td id=\"T_3c7eb_row19_col8\" class=\"data row19 col8\" >8.663043</td>\n",
       "      <td id=\"T_3c7eb_row19_col9\" class=\"data row19 col9\" >-1.487805</td>\n",
       "      <td id=\"T_3c7eb_row19_col10\" class=\"data row19 col10\" >0.825581</td>\n",
       "      <td id=\"T_3c7eb_row19_col11\" class=\"data row19 col11\" >24.584906</td>\n",
       "    </tr>\n",
       "    <tr>\n",
       "      <th id=\"T_3c7eb_level0_row20\" class=\"row_heading level0 row20\" >21</th>\n",
       "      <td id=\"T_3c7eb_row20_col0\" class=\"data row20 col0\" >6.301075</td>\n",
       "      <td id=\"T_3c7eb_row20_col1\" class=\"data row20 col1\" >12.758621</td>\n",
       "      <td id=\"T_3c7eb_row20_col2\" class=\"data row20 col2\" >4.570000</td>\n",
       "      <td id=\"T_3c7eb_row20_col3\" class=\"data row20 col3\" >8.663043</td>\n",
       "      <td id=\"T_3c7eb_row20_col4\" class=\"data row20 col4\" >15.215054</td>\n",
       "      <td id=\"T_3c7eb_row20_col5\" class=\"data row20 col5\" >5.931507</td>\n",
       "      <td id=\"T_3c7eb_row20_col6\" class=\"data row20 col6\" >20.683673</td>\n",
       "      <td id=\"T_3c7eb_row20_col7\" class=\"data row20 col7\" >0.872881</td>\n",
       "      <td id=\"T_3c7eb_row20_col8\" class=\"data row20 col8\" >5.942029</td>\n",
       "      <td id=\"T_3c7eb_row20_col9\" class=\"data row20 col9\" >-0.087719</td>\n",
       "      <td id=\"T_3c7eb_row20_col10\" class=\"data row20 col10\" >2.410000</td>\n",
       "      <td id=\"T_3c7eb_row20_col11\" class=\"data row20 col11\" >23.000000</td>\n",
       "    </tr>\n",
       "    <tr>\n",
       "      <th id=\"T_3c7eb_level0_row21\" class=\"row_heading level0 row21\" >22</th>\n",
       "      <td id=\"T_3c7eb_row21_col0\" class=\"data row21 col0\" >13.264706</td>\n",
       "      <td id=\"T_3c7eb_row21_col1\" class=\"data row21 col1\" >11.615385</td>\n",
       "      <td id=\"T_3c7eb_row21_col2\" class=\"data row21 col2\" >10.406593</td>\n",
       "      <td id=\"T_3c7eb_row21_col3\" class=\"data row21 col3\" >33.453704</td>\n",
       "      <td id=\"T_3c7eb_row21_col4\" class=\"data row21 col4\" >20.325581</td>\n",
       "      <td id=\"T_3c7eb_row21_col5\" class=\"data row21 col5\" >3.361111</td>\n",
       "      <td id=\"T_3c7eb_row21_col6\" class=\"data row21 col6\" >33.627660</td>\n",
       "      <td id=\"T_3c7eb_row21_col7\" class=\"data row21 col7\" >29.115789</td>\n",
       "      <td id=\"T_3c7eb_row21_col8\" class=\"data row21 col8\" >7.357895</td>\n",
       "      <td id=\"T_3c7eb_row21_col9\" class=\"data row21 col9\" >2.955556</td>\n",
       "      <td id=\"T_3c7eb_row21_col10\" class=\"data row21 col10\" >10.413462</td>\n",
       "      <td id=\"T_3c7eb_row21_col11\" class=\"data row21 col11\" >35.385542</td>\n",
       "    </tr>\n",
       "    <tr>\n",
       "      <th id=\"T_3c7eb_level0_row22\" class=\"row_heading level0 row22\" >23</th>\n",
       "      <td id=\"T_3c7eb_row22_col0\" class=\"data row22 col0\" >14.848485</td>\n",
       "      <td id=\"T_3c7eb_row22_col1\" class=\"data row22 col1\" >9.729730</td>\n",
       "      <td id=\"T_3c7eb_row22_col2\" class=\"data row22 col2\" >7.315068</td>\n",
       "      <td id=\"T_3c7eb_row22_col3\" class=\"data row22 col3\" >17.357895</td>\n",
       "      <td id=\"T_3c7eb_row22_col4\" class=\"data row22 col4\" >65.928571</td>\n",
       "      <td id=\"T_3c7eb_row22_col5\" class=\"data row22 col5\" >10.213592</td>\n",
       "      <td id=\"T_3c7eb_row22_col6\" class=\"data row22 col6\" >45.045455</td>\n",
       "      <td id=\"T_3c7eb_row22_col7\" class=\"data row22 col7\" >8.659341</td>\n",
       "      <td id=\"T_3c7eb_row22_col8\" class=\"data row22 col8\" >3.607843</td>\n",
       "      <td id=\"T_3c7eb_row22_col9\" class=\"data row22 col9\" >2.513043</td>\n",
       "      <td id=\"T_3c7eb_row22_col10\" class=\"data row22 col10\" >1.296875</td>\n",
       "      <td id=\"T_3c7eb_row22_col11\" class=\"data row22 col11\" >34.714286</td>\n",
       "    </tr>\n",
       "    <tr>\n",
       "      <th id=\"T_3c7eb_level0_row23\" class=\"row_heading level0 row23\" >24</th>\n",
       "      <td id=\"T_3c7eb_row23_col0\" class=\"data row23 col0\" >18.569231</td>\n",
       "      <td id=\"T_3c7eb_row23_col1\" class=\"data row23 col1\" >6.885417</td>\n",
       "      <td id=\"T_3c7eb_row23_col2\" class=\"data row23 col2\" >15.707547</td>\n",
       "      <td id=\"T_3c7eb_row23_col3\" class=\"data row23 col3\" >24.698925</td>\n",
       "      <td id=\"T_3c7eb_row23_col4\" class=\"data row23 col4\" >33.602041</td>\n",
       "      <td id=\"T_3c7eb_row23_col5\" class=\"data row23 col5\" >36.049020</td>\n",
       "      <td id=\"T_3c7eb_row23_col6\" class=\"data row23 col6\" >9.000000</td>\n",
       "      <td id=\"T_3c7eb_row23_col7\" class=\"data row23 col7\" >3.619565</td>\n",
       "      <td id=\"T_3c7eb_row23_col8\" class=\"data row23 col8\" >0.266667</td>\n",
       "      <td id=\"T_3c7eb_row23_col9\" class=\"data row23 col9\" >2.000000</td>\n",
       "      <td id=\"T_3c7eb_row23_col10\" class=\"data row23 col10\" >21.000000</td>\n",
       "      <td id=\"T_3c7eb_row23_col11\" class=\"data row23 col11\" >4.406977</td>\n",
       "    </tr>\n",
       "    <tr>\n",
       "      <th id=\"T_3c7eb_level0_row24\" class=\"row_heading level0 row24\" >25</th>\n",
       "      <td id=\"T_3c7eb_row24_col0\" class=\"data row24 col0\" >20.291667</td>\n",
       "      <td id=\"T_3c7eb_row24_col1\" class=\"data row24 col1\" >8.805195</td>\n",
       "      <td id=\"T_3c7eb_row24_col2\" class=\"data row24 col2\" >29.866667</td>\n",
       "      <td id=\"T_3c7eb_row24_col3\" class=\"data row24 col3\" >24.327103</td>\n",
       "      <td id=\"T_3c7eb_row24_col4\" class=\"data row24 col4\" >10.814286</td>\n",
       "      <td id=\"T_3c7eb_row24_col5\" class=\"data row24 col5\" >37.593750</td>\n",
       "      <td id=\"T_3c7eb_row24_col6\" class=\"data row24 col6\" >15.829268</td>\n",
       "      <td id=\"T_3c7eb_row24_col7\" class=\"data row24 col7\" >5.654762</td>\n",
       "      <td id=\"T_3c7eb_row24_col8\" class=\"data row24 col8\" >-0.119266</td>\n",
       "      <td id=\"T_3c7eb_row24_col9\" class=\"data row24 col9\" >4.761905</td>\n",
       "      <td id=\"T_3c7eb_row24_col10\" class=\"data row24 col10\" >0.663043</td>\n",
       "      <td id=\"T_3c7eb_row24_col11\" class=\"data row24 col11\" >10.462687</td>\n",
       "    </tr>\n",
       "    <tr>\n",
       "      <th id=\"T_3c7eb_level0_row25\" class=\"row_heading level0 row25\" >26</th>\n",
       "      <td id=\"T_3c7eb_row25_col0\" class=\"data row25 col0\" >5.811321</td>\n",
       "      <td id=\"T_3c7eb_row25_col1\" class=\"data row25 col1\" >10.772727</td>\n",
       "      <td id=\"T_3c7eb_row25_col2\" class=\"data row25 col2\" >0.915789</td>\n",
       "      <td id=\"T_3c7eb_row25_col3\" class=\"data row25 col3\" >19.044444</td>\n",
       "      <td id=\"T_3c7eb_row25_col4\" class=\"data row25 col4\" >0.500000</td>\n",
       "      <td id=\"T_3c7eb_row25_col5\" class=\"data row25 col5\" >27.784946</td>\n",
       "      <td id=\"T_3c7eb_row25_col6\" class=\"data row25 col6\" >10.043860</td>\n",
       "      <td id=\"T_3c7eb_row25_col7\" class=\"data row25 col7\" >9.235955</td>\n",
       "      <td id=\"T_3c7eb_row25_col8\" class=\"data row25 col8\" >7.638298</td>\n",
       "      <td id=\"T_3c7eb_row25_col9\" class=\"data row25 col9\" >4.587500</td>\n",
       "      <td id=\"T_3c7eb_row25_col10\" class=\"data row25 col10\" >4.708333</td>\n",
       "      <td id=\"T_3c7eb_row25_col11\" class=\"data row25 col11\" >18.538462</td>\n",
       "    </tr>\n",
       "    <tr>\n",
       "      <th id=\"T_3c7eb_level0_row26\" class=\"row_heading level0 row26\" >27</th>\n",
       "      <td id=\"T_3c7eb_row26_col0\" class=\"data row26 col0\" >6.595506</td>\n",
       "      <td id=\"T_3c7eb_row26_col1\" class=\"data row26 col1\" >34.465909</td>\n",
       "      <td id=\"T_3c7eb_row26_col2\" class=\"data row26 col2\" >1.416667</td>\n",
       "      <td id=\"T_3c7eb_row26_col3\" class=\"data row26 col3\" >3.923077</td>\n",
       "      <td id=\"T_3c7eb_row26_col4\" class=\"data row26 col4\" >7.465753</td>\n",
       "      <td id=\"T_3c7eb_row26_col5\" class=\"data row26 col5\" >40.188119</td>\n",
       "      <td id=\"T_3c7eb_row26_col6\" class=\"data row26 col6\" >4.025641</td>\n",
       "      <td id=\"T_3c7eb_row26_col7\" class=\"data row26 col7\" >3.074074</td>\n",
       "      <td id=\"T_3c7eb_row26_col8\" class=\"data row26 col8\" >5.838095</td>\n",
       "      <td id=\"T_3c7eb_row26_col9\" class=\"data row26 col9\" >5.255102</td>\n",
       "      <td id=\"T_3c7eb_row26_col10\" class=\"data row26 col10\" >19.145833</td>\n",
       "      <td id=\"T_3c7eb_row26_col11\" class=\"data row26 col11\" >12.808081</td>\n",
       "    </tr>\n",
       "    <tr>\n",
       "      <th id=\"T_3c7eb_level0_row27\" class=\"row_heading level0 row27\" >28</th>\n",
       "      <td id=\"T_3c7eb_row27_col0\" class=\"data row27 col0\" >18.677419</td>\n",
       "      <td id=\"T_3c7eb_row27_col1\" class=\"data row27 col1\" >2.720430</td>\n",
       "      <td id=\"T_3c7eb_row27_col2\" class=\"data row27 col2\" >7.692308</td>\n",
       "      <td id=\"T_3c7eb_row27_col3\" class=\"data row27 col3\" >10.053333</td>\n",
       "      <td id=\"T_3c7eb_row27_col4\" class=\"data row27 col4\" >7.715909</td>\n",
       "      <td id=\"T_3c7eb_row27_col5\" class=\"data row27 col5\" >49.945652</td>\n",
       "      <td id=\"T_3c7eb_row27_col6\" class=\"data row27 col6\" >34.361446</td>\n",
       "      <td id=\"T_3c7eb_row27_col7\" class=\"data row27 col7\" >37.954128</td>\n",
       "      <td id=\"T_3c7eb_row27_col8\" class=\"data row27 col8\" >0.814286</td>\n",
       "      <td id=\"T_3c7eb_row27_col9\" class=\"data row27 col9\" >0.989796</td>\n",
       "      <td id=\"T_3c7eb_row27_col10\" class=\"data row27 col10\" >9.614035</td>\n",
       "      <td id=\"T_3c7eb_row27_col11\" class=\"data row27 col11\" >7.191176</td>\n",
       "    </tr>\n",
       "    <tr>\n",
       "      <th id=\"T_3c7eb_level0_row28\" class=\"row_heading level0 row28\" >29</th>\n",
       "      <td id=\"T_3c7eb_row28_col0\" class=\"data row28 col0\" >1.092105</td>\n",
       "      <td id=\"T_3c7eb_row28_col1\" class=\"data row28 col1\" >nan</td>\n",
       "      <td id=\"T_3c7eb_row28_col2\" class=\"data row28 col2\" >0.785714</td>\n",
       "      <td id=\"T_3c7eb_row28_col3\" class=\"data row28 col3\" >13.685393</td>\n",
       "      <td id=\"T_3c7eb_row28_col4\" class=\"data row28 col4\" >4.414894</td>\n",
       "      <td id=\"T_3c7eb_row28_col5\" class=\"data row28 col5\" >16.341772</td>\n",
       "      <td id=\"T_3c7eb_row28_col6\" class=\"data row28 col6\" >14.455446</td>\n",
       "      <td id=\"T_3c7eb_row28_col7\" class=\"data row28 col7\" >8.568807</td>\n",
       "      <td id=\"T_3c7eb_row28_col8\" class=\"data row28 col8\" >6.539216</td>\n",
       "      <td id=\"T_3c7eb_row28_col9\" class=\"data row28 col9\" >5.047619</td>\n",
       "      <td id=\"T_3c7eb_row28_col10\" class=\"data row28 col10\" >-1.352113</td>\n",
       "      <td id=\"T_3c7eb_row28_col11\" class=\"data row28 col11\" >25.504673</td>\n",
       "    </tr>\n",
       "    <tr>\n",
       "      <th id=\"T_3c7eb_level0_row29\" class=\"row_heading level0 row29\" >30</th>\n",
       "      <td id=\"T_3c7eb_row29_col0\" class=\"data row29 col0\" >29.701493</td>\n",
       "      <td id=\"T_3c7eb_row29_col1\" class=\"data row29 col1\" >nan</td>\n",
       "      <td id=\"T_3c7eb_row29_col2\" class=\"data row29 col2\" >5.947368</td>\n",
       "      <td id=\"T_3c7eb_row29_col3\" class=\"data row29 col3\" >3.227723</td>\n",
       "      <td id=\"T_3c7eb_row29_col4\" class=\"data row29 col4\" >7.369565</td>\n",
       "      <td id=\"T_3c7eb_row29_col5\" class=\"data row29 col5\" >45.540816</td>\n",
       "      <td id=\"T_3c7eb_row29_col6\" class=\"data row29 col6\" >8.160714</td>\n",
       "      <td id=\"T_3c7eb_row29_col7\" class=\"data row29 col7\" >12.373494</td>\n",
       "      <td id=\"T_3c7eb_row29_col8\" class=\"data row29 col8\" >0.344444</td>\n",
       "      <td id=\"T_3c7eb_row29_col9\" class=\"data row29 col9\" >-1.937500</td>\n",
       "      <td id=\"T_3c7eb_row29_col10\" class=\"data row29 col10\" >0.569767</td>\n",
       "      <td id=\"T_3c7eb_row29_col11\" class=\"data row29 col11\" >10.950000</td>\n",
       "    </tr>\n",
       "    <tr>\n",
       "      <th id=\"T_3c7eb_level0_row30\" class=\"row_heading level0 row30\" >31</th>\n",
       "      <td id=\"T_3c7eb_row30_col0\" class=\"data row30 col0\" >33.547619</td>\n",
       "      <td id=\"T_3c7eb_row30_col1\" class=\"data row30 col1\" >nan</td>\n",
       "      <td id=\"T_3c7eb_row30_col2\" class=\"data row30 col2\" >4.916667</td>\n",
       "      <td id=\"T_3c7eb_row30_col3\" class=\"data row30 col3\" >nan</td>\n",
       "      <td id=\"T_3c7eb_row30_col4\" class=\"data row30 col4\" >9.669725</td>\n",
       "      <td id=\"T_3c7eb_row30_col5\" class=\"data row30 col5\" >nan</td>\n",
       "      <td id=\"T_3c7eb_row30_col6\" class=\"data row30 col6\" >4.193878</td>\n",
       "      <td id=\"T_3c7eb_row30_col7\" class=\"data row30 col7\" >5.833333</td>\n",
       "      <td id=\"T_3c7eb_row30_col8\" class=\"data row30 col8\" >nan</td>\n",
       "      <td id=\"T_3c7eb_row30_col9\" class=\"data row30 col9\" >3.358025</td>\n",
       "      <td id=\"T_3c7eb_row30_col10\" class=\"data row30 col10\" >nan</td>\n",
       "      <td id=\"T_3c7eb_row30_col11\" class=\"data row30 col11\" >5.779221</td>\n",
       "    </tr>\n",
       "  </tbody>\n",
       "</table>\n"
      ],
      "text/plain": [
       "<pandas.io.formats.style.Styler at 0x7fe25247aaf0>"
      ]
     },
     "execution_count": 15,
     "metadata": {},
     "output_type": "execute_result"
    }
   ],
   "source": [
    "dayspermonth = data.groupby(['day', 'month'])['dep_delay'].mean().unstack()\n",
    "dayspermonth.style.highlight_max(color = 'lightgreen', axis = 0)"
   ]
  },
  {
   "cell_type": "markdown",
   "id": "da17d567-6b5e-4423-b92c-b8b1eddb7bd6",
   "metadata": {},
   "source": [
    "Longest departure delays around major holidays?\n",
    "- Feb: before Valentine's day\n",
    "- Apr: spring break\n",
    "- May: Memorial Day\n",
    "- Sep: Labor Day\n",
    "- Nov: Thanksgiving \n",
    "- Dec: Peak delay occurs around Dec 5th, but note increase in average flight delay in the week leading up to Christmas"
   ]
  },
  {
   "cell_type": "markdown",
   "id": "b5321cc7",
   "metadata": {},
   "source": [
    "---"
   ]
  },
  {
   "cell_type": "markdown",
   "id": "7d0d5e42",
   "metadata": {},
   "source": [
    "origin & destination & tailnum & air time"
   ]
  },
  {
   "cell_type": "code",
   "execution_count": 16,
   "id": "f71ed924",
   "metadata": {},
   "outputs": [
    {
     "data": {
      "text/plain": [
       "N725MQ    59\n",
       "N713MQ    53\n",
       "N711MQ    48\n",
       "N723MQ    47\n",
       "N722MQ    46\n",
       "          ..\n",
       "N359AA     1\n",
       "N5FBAA     1\n",
       "N8631E     1\n",
       "N278AT     1\n",
       "N924WN     1\n",
       "Name: tailnum, Length: 3490, dtype: int64"
      ]
     },
     "execution_count": 16,
     "metadata": {},
     "output_type": "execute_result"
    }
   ],
   "source": [
    "data['tailnum'].value_counts()"
   ]
  },
  {
   "cell_type": "code",
   "execution_count": 54,
   "id": "eec82c4a-c849-4d72-aa85-15eec278c2da",
   "metadata": {},
   "outputs": [
    {
     "data": {
      "text/plain": [
       "Text(0.5, 0, 'Unique Origin')"
      ]
     },
     "execution_count": 54,
     "metadata": {},
     "output_type": "execute_result"
    },
    {
     "data": {
      "image/png": "[encoded data removed]",
      "text/plain": [
       "<Figure size 1728x576 with 3 Axes>"
      ]
     },
     "metadata": {
      "needs_background": "light"
     },
     "output_type": "display_data"
    }
   ],
   "source": [
    "fig, ax = plt.subplots(1, 3, figsize=(24, 8))\n",
    "\n",
    "ax1 = sns.countplot(x=\"origin\", data=data, ax=ax[0], palette='crest')\n",
    "\n",
    "for p in ax1.patches:\n",
    "    ax1.annotate('{:.1f}'.format(p.get_height()), (p.get_x()+.2, p.get_height()+60))\n",
    "ax1.set_xlabel('Unique Origin', size=15)\n",
    "ax1.set_ylabel('Counts', size=15)\n",
    "ax1.set_title('Count Plot of Origin', size=20)\n",
    "\n",
    "ax2 = sns.boxplot(x='origin', y='dep_delay', data=data, ax=ax[1], palette='crest')\n",
    "ax2.set_ylabel('Departure Delay', size=15)\n",
    "ax2.set_xlabel('Unique Origin', size=15)\n",
    "\n",
    "ax3 = sns.boxplot(x='origin', y='dep_delay', data=data, ax=ax[2], showfliers=False, palette='crest')\n",
    "ax3.set_ylabel('Departure Delay', size=15)\n",
    "ax3.set_xlabel('Unique Origin', size=15)"
   ]
  },
  {
   "cell_type": "markdown",
   "id": "ca7fc3a7-9385-43f0-9076-126ed2a59227",
   "metadata": {},
   "source": [
    "We can see there are only 3 origin airports and they are quite evenly distributed and after removing outliers, EWR airport seems to experience longer departure delays, followed by JFK, then LGA."
   ]
  },
  {
   "cell_type": "code",
   "execution_count": 19,
   "id": "09ed66c7-9aa2-4d89-b619-9a2d0e5ef226",
   "metadata": {},
   "outputs": [
    {
     "data": {
      "image/png": "[encoded data removed]",
      "text/plain": [
       "<Figure size 1728x576 with 1 Axes>"
      ]
     },
     "metadata": {
      "needs_background": "light"
     },
     "output_type": "display_data"
    }
   ],
   "source": [
    "fig, ax = plt.subplots(figsize=(24, 8))\n",
    "\n",
    "ax = sns.barplot(x=data['dest'].value_counts().index, y=data['dest'].value_counts(), ax=ax, palette='crest')\n",
    "\n",
    "ax.set_xticklabels(data['dest'].value_counts().index, rotation=90)\n",
    "ax.set_xlabel('Destination', size=15)\n",
    "ax.set_ylabel('Counts', size=15)\n",
    "ax.set_title('Counts of Destination', size=20)\n",
    "\n",
    "plt.show();"
   ]
  },
  {
   "cell_type": "markdown",
   "id": "428840e4-252a-4293-b7e5-947e6866249b",
   "metadata": {},
   "source": [
    "However when we look at the destination counts plot, they are skewed heavily. Also using this feature and One-Hot-Encoding will create a sparse matrix that could lead to unstable performance of models later so we drop this feature."
   ]
  },
  {
   "cell_type": "code",
   "execution_count": 20,
   "id": "62020774-89cb-43d4-b3be-a284ef0ba6a4",
   "metadata": {},
   "outputs": [],
   "source": [
    "data.drop(columns='dest', inplace=True)"
   ]
  },
  {
   "cell_type": "code",
   "execution_count": 21,
   "id": "25848b15",
   "metadata": {},
   "outputs": [
    {
     "data": {
      "image/png": "[encoded data removed]",
      "text/plain": [
       "<Figure size 576x432 with 1 Axes>"
      ]
     },
     "metadata": {
      "needs_background": "light"
     },
     "output_type": "display_data"
    }
   ],
   "source": [
    "fig, ax = plt.subplots(figsize=(8, 6))\n",
    "\n",
    "sns.histplot(x='air_time', data=data, ax=ax, kde=True, palette='crest')\n",
    "\n",
    "ax.set_title('Histogram of Time in Air', size=20)\n",
    "ax.set_xlabel('Time in the Air', size=15)\n",
    "ax.set_ylabel('Count', size=15)\n",
    "\n",
    "plt.show();"
   ]
  },
  {
   "cell_type": "markdown",
   "id": "e18f0c10-1e96-440a-a7eb-8d988b2ccebb",
   "metadata": {},
   "source": [
    "If departure is delayed, this will lead to a delay in arrival in most cases. Examination below"
   ]
  },
  {
   "cell_type": "code",
   "execution_count": 22,
   "id": "9d5409b7-3daf-45f2-af74-b67f55a936c9",
   "metadata": {},
   "outputs": [],
   "source": [
    "delay_data = data[['tailnum', 'dep_delay', 'arr_delay']].groupby('tailnum').mean().sort_values('dep_delay', ascending=False).reset_index()"
   ]
  },
  {
   "cell_type": "code",
   "execution_count": 23,
   "id": "dc0fe4f6-60cf-46d6-becd-7f1c99b66efb",
   "metadata": {},
   "outputs": [
    {
     "data": {
      "image/png": "[encoded data removed]",
      "text/plain": [
       "<Figure size 720x432 with 1 Axes>"
      ]
     },
     "metadata": {
      "needs_background": "light"
     },
     "output_type": "display_data"
    }
   ],
   "source": [
    "fig, ax = plt.subplots(figsize=(10, 6))\n",
    "\n",
    "ax = sns.barplot(x='tailnum', y='dep_delay', data=delay_data.iloc[:20], ax=ax, palette='crest')\n",
    "\n",
    "ax.set_xticklabels(delay_data.iloc[:20]['tailnum'], rotation=90)\n",
    "ax.set_xlabel('Tail Number', size=15)\n",
    "ax.set_ylabel('Departure Delay', size=15)\n",
    "ax.set_title('Top 20 Delayed Tailnum', size=20)\n",
    "plt.show();"
   ]
  },
  {
   "cell_type": "markdown",
   "id": "f0df646e-a4a4-41cb-8968-a27eb11bc0da",
   "metadata": {},
   "source": [
    "Seems that tailnum **N913WN** causes the most delay. "
   ]
  },
  {
   "cell_type": "code",
   "execution_count": 24,
   "id": "8ebf05ff-ae3a-49ee-bab9-1e0a449d16cd",
   "metadata": {},
   "outputs": [
    {
     "data": {
      "text/html": [
       "<div>\n",
       "<style scoped>\n",
       "    .dataframe tbody tr th:only-of-type {\n",
       "        vertical-align: middle;\n",
       "    }\n",
       "\n",
       "    .dataframe tbody tr th {\n",
       "        vertical-align: top;\n",
       "    }\n",
       "\n",
       "    .dataframe thead th {\n",
       "        text-align: right;\n",
       "    }\n",
       "</style>\n",
       "<table border=\"1\" class=\"dataframe\">\n",
       "  <thead>\n",
       "    <tr style=\"text-align: right;\">\n",
       "      <th></th>\n",
       "      <th>dep_delay</th>\n",
       "      <th>arr_delay</th>\n",
       "    </tr>\n",
       "  </thead>\n",
       "  <tbody>\n",
       "    <tr>\n",
       "      <th>dep_delay</th>\n",
       "      <td>1.000000</td>\n",
       "      <td>0.913046</td>\n",
       "    </tr>\n",
       "    <tr>\n",
       "      <th>arr_delay</th>\n",
       "      <td>0.913046</td>\n",
       "      <td>1.000000</td>\n",
       "    </tr>\n",
       "  </tbody>\n",
       "</table>\n",
       "</div>"
      ],
      "text/plain": [
       "           dep_delay  arr_delay\n",
       "dep_delay   1.000000   0.913046\n",
       "arr_delay   0.913046   1.000000"
      ]
     },
     "execution_count": 24,
     "metadata": {},
     "output_type": "execute_result"
    }
   ],
   "source": [
    "delay_data.drop(columns='tailnum').corr()"
   ]
  },
  {
   "cell_type": "markdown",
   "id": "f5831b27-f211-48d1-bf49-50f410783492",
   "metadata": {},
   "source": [
    "There is actually highly correlated relationship between these two delays as mentioned above."
   ]
  },
  {
   "cell_type": "markdown",
   "id": "13b074fb-657c-4811-b151-0253da0b9c24",
   "metadata": {},
   "source": [
    "Also we are mainly focusing on departure delay, we can drop arrival delay feature"
   ]
  },
  {
   "cell_type": "code",
   "execution_count": 25,
   "id": "a80696b6-38d4-4037-8b7e-8594eab176a5",
   "metadata": {},
   "outputs": [],
   "source": [
    "data.drop(columns='arr_delay', inplace=True)"
   ]
  },
  {
   "cell_type": "markdown",
   "id": "bb8ca735-fda4-474d-82db-b50cc80ee546",
   "metadata": {},
   "source": [
    "Because there are 3490 unique tailnum values, is it good to keep them as categorical feature or drop it? It's possible that some tailnum values have higher than others because they happen more."
   ]
  },
  {
   "cell_type": "code",
   "execution_count": 26,
   "id": "ed1aba90-91a6-43ac-902d-100f312cea5b",
   "metadata": {
    "tags": []
   },
   "outputs": [
    {
     "data": {
      "text/html": [
       "<div>\n",
       "<style scoped>\n",
       "    .dataframe tbody tr th:only-of-type {\n",
       "        vertical-align: middle;\n",
       "    }\n",
       "\n",
       "    .dataframe tbody tr th {\n",
       "        vertical-align: top;\n",
       "    }\n",
       "\n",
       "    .dataframe thead th {\n",
       "        text-align: right;\n",
       "    }\n",
       "</style>\n",
       "<table border=\"1\" class=\"dataframe\">\n",
       "  <thead>\n",
       "    <tr style=\"text-align: right;\">\n",
       "      <th></th>\n",
       "      <th>count_delay</th>\n",
       "      <th>avg_delay</th>\n",
       "    </tr>\n",
       "    <tr>\n",
       "      <th>tailnum</th>\n",
       "      <th></th>\n",
       "      <th></th>\n",
       "    </tr>\n",
       "  </thead>\n",
       "  <tbody>\n",
       "    <tr>\n",
       "      <th>N913WN</th>\n",
       "      <td>1</td>\n",
       "      <td>334.0</td>\n",
       "    </tr>\n",
       "    <tr>\n",
       "      <th>N384HA</th>\n",
       "      <td>5</td>\n",
       "      <td>257.0</td>\n",
       "    </tr>\n",
       "    <tr>\n",
       "      <th>N654UA</th>\n",
       "      <td>1</td>\n",
       "      <td>227.0</td>\n",
       "    </tr>\n",
       "    <tr>\n",
       "      <th>N356AA</th>\n",
       "      <td>1</td>\n",
       "      <td>215.0</td>\n",
       "    </tr>\n",
       "    <tr>\n",
       "      <th>N571AA</th>\n",
       "      <td>4</td>\n",
       "      <td>208.5</td>\n",
       "    </tr>\n",
       "  </tbody>\n",
       "</table>\n",
       "</div>"
      ],
      "text/plain": [
       "         count_delay  avg_delay\n",
       "tailnum                        \n",
       "N913WN             1      334.0\n",
       "N384HA             5      257.0\n",
       "N654UA             1      227.0\n",
       "N356AA             1      215.0\n",
       "N571AA             4      208.5"
      ]
     },
     "execution_count": 26,
     "metadata": {},
     "output_type": "execute_result"
    }
   ],
   "source": [
    "tailnum_count = data[['dep_delay', 'tailnum']].groupby('tailnum').count().sort_index().rename(columns={'dep_delay':'count_delay'})\n",
    "tailnum_count['avg_delay'] = data[['dep_delay', 'tailnum']].groupby('tailnum').mean().sort_index()['dep_delay']\n",
    "tailnum_count.sort_values('avg_delay', ascending=False).head()"
   ]
  },
  {
   "cell_type": "code",
   "execution_count": 27,
   "id": "a7d02e80-a577-429e-9dd2-9a3e5638e368",
   "metadata": {},
   "outputs": [
    {
     "data": {
      "text/html": [
       "<div>\n",
       "<style scoped>\n",
       "    .dataframe tbody tr th:only-of-type {\n",
       "        vertical-align: middle;\n",
       "    }\n",
       "\n",
       "    .dataframe tbody tr th {\n",
       "        vertical-align: top;\n",
       "    }\n",
       "\n",
       "    .dataframe thead th {\n",
       "        text-align: right;\n",
       "    }\n",
       "</style>\n",
       "<table border=\"1\" class=\"dataframe\">\n",
       "  <thead>\n",
       "    <tr style=\"text-align: right;\">\n",
       "      <th></th>\n",
       "      <th>count_delay</th>\n",
       "      <th>avg_delay</th>\n",
       "    </tr>\n",
       "  </thead>\n",
       "  <tbody>\n",
       "    <tr>\n",
       "      <th>count_delay</th>\n",
       "      <td>1.000000</td>\n",
       "      <td>0.012759</td>\n",
       "    </tr>\n",
       "    <tr>\n",
       "      <th>avg_delay</th>\n",
       "      <td>0.012759</td>\n",
       "      <td>1.000000</td>\n",
       "    </tr>\n",
       "  </tbody>\n",
       "</table>\n",
       "</div>"
      ],
      "text/plain": [
       "             count_delay  avg_delay\n",
       "count_delay     1.000000   0.012759\n",
       "avg_delay       0.012759   1.000000"
      ]
     },
     "execution_count": 27,
     "metadata": {},
     "output_type": "execute_result"
    }
   ],
   "source": [
    "tailnum_count.corr()"
   ]
  },
  {
   "cell_type": "markdown",
   "id": "771de3e6-61fb-433f-be87-b1f389aebc17",
   "metadata": {},
   "source": [
    "Based on the counts and average delays as well as the correlation between these two, tailnum doesn't seem to impact much on the delay. This also makes some sense because for example with N913WN, the delay happened only once with 334.0 value with highest delay. But this could just be due to air traffic of other planes and/or surrounding environment. With this reasnoning, try modeling without this tailnum feature"
   ]
  },
  {
   "cell_type": "code",
   "execution_count": 28,
   "id": "bd4bc18a-7ff1-4d32-b11e-3d606467cb67",
   "metadata": {},
   "outputs": [],
   "source": [
    "data.drop(columns='tailnum', inplace=True)"
   ]
  },
  {
   "cell_type": "markdown",
   "id": "6e3a9a53",
   "metadata": {},
   "source": [
    "---"
   ]
  },
  {
   "cell_type": "markdown",
   "id": "f1c5f347-d784-43b6-b0f9-f21c6a28477e",
   "metadata": {},
   "source": [
    "Carrier & Departure Delay"
   ]
  },
  {
   "cell_type": "markdown",
   "id": "485080fa-aa50-4b8a-b749-aee7672156b0",
   "metadata": {},
   "source": [
    "Apply similar approach with carrier that's done to tailnum above"
   ]
  },
  {
   "cell_type": "code",
   "execution_count": 29,
   "id": "9ed54b37",
   "metadata": {},
   "outputs": [
    {
     "data": {
      "text/html": [
       "<div>\n",
       "<style scoped>\n",
       "    .dataframe tbody tr th:only-of-type {\n",
       "        vertical-align: middle;\n",
       "    }\n",
       "\n",
       "    .dataframe tbody tr th {\n",
       "        vertical-align: top;\n",
       "    }\n",
       "\n",
       "    .dataframe thead th {\n",
       "        text-align: right;\n",
       "    }\n",
       "</style>\n",
       "<table border=\"1\" class=\"dataframe\">\n",
       "  <thead>\n",
       "    <tr style=\"text-align: right;\">\n",
       "      <th></th>\n",
       "      <th>count_delay</th>\n",
       "      <th>avg_delay</th>\n",
       "    </tr>\n",
       "    <tr>\n",
       "      <th>carrier</th>\n",
       "      <th></th>\n",
       "      <th></th>\n",
       "    </tr>\n",
       "  </thead>\n",
       "  <tbody>\n",
       "    <tr>\n",
       "      <th>HA</th>\n",
       "      <td>34</td>\n",
       "      <td>38.529412</td>\n",
       "    </tr>\n",
       "    <tr>\n",
       "      <th>OO</th>\n",
       "      <td>3</td>\n",
       "      <td>22.000000</td>\n",
       "    </tr>\n",
       "    <tr>\n",
       "      <th>EV</th>\n",
       "      <td>5142</td>\n",
       "      <td>20.066122</td>\n",
       "    </tr>\n",
       "    <tr>\n",
       "      <th>FL</th>\n",
       "      <td>307</td>\n",
       "      <td>18.368078</td>\n",
       "    </tr>\n",
       "    <tr>\n",
       "      <th>YV</th>\n",
       "      <td>53</td>\n",
       "      <td>18.264151</td>\n",
       "    </tr>\n",
       "    <tr>\n",
       "      <th>WN</th>\n",
       "      <td>1261</td>\n",
       "      <td>17.381443</td>\n",
       "    </tr>\n",
       "    <tr>\n",
       "      <th>9E</th>\n",
       "      <td>1696</td>\n",
       "      <td>17.285967</td>\n",
       "    </tr>\n",
       "    <tr>\n",
       "      <th>B6</th>\n",
       "      <td>5376</td>\n",
       "      <td>13.137091</td>\n",
       "    </tr>\n",
       "    <tr>\n",
       "      <th>F9</th>\n",
       "      <td>69</td>\n",
       "      <td>12.811594</td>\n",
       "    </tr>\n",
       "    <tr>\n",
       "      <th>UA</th>\n",
       "      <td>5770</td>\n",
       "      <td>12.725650</td>\n",
       "    </tr>\n",
       "    <tr>\n",
       "      <th>VX</th>\n",
       "      <td>497</td>\n",
       "      <td>12.722334</td>\n",
       "    </tr>\n",
       "    <tr>\n",
       "      <th>MQ</th>\n",
       "      <td>2507</td>\n",
       "      <td>9.617870</td>\n",
       "    </tr>\n",
       "    <tr>\n",
       "      <th>AA</th>\n",
       "      <td>3188</td>\n",
       "      <td>9.142409</td>\n",
       "    </tr>\n",
       "    <tr>\n",
       "      <th>DL</th>\n",
       "      <td>4751</td>\n",
       "      <td>8.529573</td>\n",
       "    </tr>\n",
       "    <tr>\n",
       "      <th>AS</th>\n",
       "      <td>66</td>\n",
       "      <td>5.181818</td>\n",
       "    </tr>\n",
       "    <tr>\n",
       "      <th>US</th>\n",
       "      <td>2015</td>\n",
       "      <td>4.030769</td>\n",
       "    </tr>\n",
       "  </tbody>\n",
       "</table>\n",
       "</div>"
      ],
      "text/plain": [
       "         count_delay  avg_delay\n",
       "carrier                        \n",
       "HA                34  38.529412\n",
       "OO                 3  22.000000\n",
       "EV              5142  20.066122\n",
       "FL               307  18.368078\n",
       "YV                53  18.264151\n",
       "WN              1261  17.381443\n",
       "9E              1696  17.285967\n",
       "B6              5376  13.137091\n",
       "F9                69  12.811594\n",
       "UA              5770  12.725650\n",
       "VX               497  12.722334\n",
       "MQ              2507   9.617870\n",
       "AA              3188   9.142409\n",
       "DL              4751   8.529573\n",
       "AS                66   5.181818\n",
       "US              2015   4.030769"
      ]
     },
     "execution_count": 29,
     "metadata": {},
     "output_type": "execute_result"
    }
   ],
   "source": [
    "carrier_count = data[['dep_delay', 'carrier']].groupby('carrier').count().sort_index().rename(columns={'dep_delay':'count_delay'})\n",
    "carrier_count['avg_delay'] = data[['dep_delay', 'carrier']].groupby('carrier').mean().sort_index()['dep_delay']\n",
    "carrier_count.sort_values('avg_delay', ascending=False)"
   ]
  },
  {
   "cell_type": "markdown",
   "id": "f71d935c-8fce-411e-81fd-9301e43b32d8",
   "metadata": {},
   "source": [
    "Unlike tailnum, there are fixed number of carrier and not a lot, their counts are quite high and their average delay can be used. But is there correlation?"
   ]
  },
  {
   "cell_type": "code",
   "execution_count": 30,
   "id": "c5907eac-1d9d-470e-94a0-a3ce3a3269e6",
   "metadata": {},
   "outputs": [
    {
     "data": {
      "text/html": [
       "<div>\n",
       "<style scoped>\n",
       "    .dataframe tbody tr th:only-of-type {\n",
       "        vertical-align: middle;\n",
       "    }\n",
       "\n",
       "    .dataframe tbody tr th {\n",
       "        vertical-align: top;\n",
       "    }\n",
       "\n",
       "    .dataframe thead th {\n",
       "        text-align: right;\n",
       "    }\n",
       "</style>\n",
       "<table border=\"1\" class=\"dataframe\">\n",
       "  <thead>\n",
       "    <tr style=\"text-align: right;\">\n",
       "      <th></th>\n",
       "      <th>count_delay</th>\n",
       "      <th>avg_delay</th>\n",
       "    </tr>\n",
       "  </thead>\n",
       "  <tbody>\n",
       "    <tr>\n",
       "      <th>count_delay</th>\n",
       "      <td>1.000000</td>\n",
       "      <td>-0.282994</td>\n",
       "    </tr>\n",
       "    <tr>\n",
       "      <th>avg_delay</th>\n",
       "      <td>-0.282994</td>\n",
       "      <td>1.000000</td>\n",
       "    </tr>\n",
       "  </tbody>\n",
       "</table>\n",
       "</div>"
      ],
      "text/plain": [
       "             count_delay  avg_delay\n",
       "count_delay     1.000000  -0.282994\n",
       "avg_delay      -0.282994   1.000000"
      ]
     },
     "execution_count": 30,
     "metadata": {},
     "output_type": "execute_result"
    }
   ],
   "source": [
    "carrier_count.corr()"
   ]
  },
  {
   "cell_type": "code",
   "execution_count": 31,
   "id": "33e0ebce-2942-4101-a32e-a0bda959b156",
   "metadata": {},
   "outputs": [
    {
     "data": {
      "image/png": "[encoded data removed]",
      "text/plain": [
       "<Figure size 576x432 with 1 Axes>"
      ]
     },
     "metadata": {
      "needs_background": "light"
     },
     "output_type": "display_data"
    }
   ],
   "source": [
    "plt.figure(figsize=(8, 6))\n",
    "sns.boxplot(x='carrier', y='dep_delay', data=data)\n",
    "\n",
    "plt.xlabel('Carrier', size=15)\n",
    "plt.ylabel('Departure Delay', size=15)\n",
    "plt.title('Boxplot on Carrier by Delay', size=20)\n",
    "\n",
    "plt.show();"
   ]
  },
  {
   "cell_type": "markdown",
   "id": "0c3381d4-c8fb-45cb-b6b7-1fd21bf4cb00",
   "metadata": {},
   "source": [
    "They have negative correlation but the numbers are not big enough to drop carrier predictor. Also it's actually possible carrier affects the delay as some may have more planes at NYC airport to cause traffic congestion so it could be a good idea to keep this feature."
   ]
  },
  {
   "cell_type": "markdown",
   "id": "cc502ff8-d997-404d-bf24-b9df50021d79",
   "metadata": {},
   "source": [
    "Several outliers seen. Majority of delays don't exceed 400 minutes. A handful of airlines have delays less than 400 minutes"
   ]
  },
  {
   "cell_type": "markdown",
   "id": "a6531421",
   "metadata": {},
   "source": [
    "---"
   ]
  },
  {
   "cell_type": "markdown",
   "id": "29800a59",
   "metadata": {},
   "source": [
    "#### Departure Time"
   ]
  },
  {
   "cell_type": "code",
   "execution_count": 32,
   "id": "5c06c844",
   "metadata": {},
   "outputs": [
    {
     "data": {
      "text/plain": [
       "755    101\n",
       "655     90\n",
       "556     87\n",
       "557     84\n",
       "656     79\n",
       "      ... \n",
       "152      1\n",
       "103      1\n",
       "119      1\n",
       "117      1\n",
       "232      1\n",
       "Name: dep_time, Length: 1212, dtype: int64"
      ]
     },
     "execution_count": 32,
     "metadata": {},
     "output_type": "execute_result"
    }
   ],
   "source": [
    "data['dep_time'].value_counts()"
   ]
  },
  {
   "cell_type": "code",
   "execution_count": 38,
   "id": "1a8bedee",
   "metadata": {},
   "outputs": [
    {
     "data": {
      "image/png": "[encoded data removed]",
      "text/plain": [
       "<Figure size 576x432 with 1 Axes>"
      ]
     },
     "metadata": {
      "needs_background": "light"
     },
     "output_type": "display_data"
    }
   ],
   "source": [
    "# scatterplot of departure time and departure delays\n",
    "# departure time noted in military time\n",
    "fig, ax = plt.subplots(figsize=(8, 6))\n",
    "\n",
    "ax = sns.scatterplot(x='dep_time', y='dep_delay', data=data, alpha=0.2, ax=ax)\n",
    "\n",
    "ax.set_title('Scatterplot of Departure Time to Departure Delay', size=20)\n",
    "ax.set_xlabel('Departure Time in Eastern Time', size=15)\n",
    "ax.set_ylabel('Departure Delay in Minutes', size=15)\n",
    "\n",
    "plt.show();"
   ]
  },
  {
   "cell_type": "markdown",
   "id": "d7040c3e",
   "metadata": {},
   "source": [
    "Steady increase in departure delay time as the day progresses from around 5AM to midnight. This is followed by a sharp decline in departure delay."
   ]
  },
  {
   "cell_type": "markdown",
   "id": "165142dd",
   "metadata": {},
   "source": [
    "---"
   ]
  },
  {
   "cell_type": "markdown",
   "id": "aad3a1c5-b0e8-4b9c-954d-d8e70a7fb1ad",
   "metadata": {},
   "source": [
    "Arrival Time"
   ]
  },
  {
   "cell_type": "markdown",
   "id": "cffbe5c8-6af3-4327-91ee-f67a4810eae4",
   "metadata": {},
   "source": [
    "Because arrival can be deduced from dep_time, dep_delay, and air_time, drop arr_time"
   ]
  },
  {
   "cell_type": "code",
   "execution_count": 79,
   "id": "521a6d99-c1df-4230-bf8d-ccf01dab4db4",
   "metadata": {},
   "outputs": [],
   "source": [
    "data.drop(columns='arr_time', inplace=True)"
   ]
  },
  {
   "cell_type": "markdown",
   "id": "bbe52f74-10dd-48ff-8102-08c7f57b00c5",
   "metadata": {},
   "source": [
    "---"
   ]
  },
  {
   "cell_type": "markdown",
   "id": "4722fc67-1809-4cdb-9888-d62ba9356cb9",
   "metadata": {},
   "source": [
    "Transforming dep_time into a cetagorical predictor"
   ]
  },
  {
   "cell_type": "code",
   "execution_count": 55,
   "id": "16a55fbc-0367-41b2-9399-fabfb83b95b0",
   "metadata": {},
   "outputs": [],
   "source": [
    "#Transform time variable into four categorical values\n",
    "departure = []\n",
    "for hour in data['dep_time']:\n",
    "    aux = 0\n",
    "    if hour < 600:\n",
    "        aux = 0\n",
    "    elif hour >= 600 and hour < 1200:\n",
    "        aux = 1\n",
    "    elif hour >= 1200 and hour < 1600:\n",
    "        aux = 2\n",
    "    else:\n",
    "        aux = 3\n",
    "    departure.append(aux)\n",
    "\n",
    "data['dep_time'] = departure"
   ]
  },
  {
   "cell_type": "code",
   "execution_count": 68,
   "id": "f15386b2-9bb4-489a-a552-fa660fc8436f",
   "metadata": {},
   "outputs": [
    {
     "data": {
      "image/png": "[encoded data removed]",
      "text/plain": [
       "<Figure size 864x576 with 1 Axes>"
      ]
     },
     "metadata": {
      "needs_background": "light"
     },
     "output_type": "display_data"
    }
   ],
   "source": [
    "fig, ax = plt.subplots(figsize=(12, 8))\n",
    "\n",
    "ax = sns.countplot(x=\"dep_time\", data=data, palette='crest', ax=ax)\n",
    "\n",
    "for p in ax.patches:\n",
    "    ax.annotate('{:.1f}'.format(p.get_height()), (p.get_x()+.25, p.get_height()+200), size=12)\n",
    "ax.set_xlabel('Time', size=15)\n",
    "ax.set_title('Departure Times', size=20)\n",
    "ax.set(xticklabels=[\"0:00 - 6:00\", \"6:00 - 12:00\", \"12:00 - 18:00\", \"18:00 - 0:00\"])\n",
    "\n",
    "plt.show();"
   ]
  },
  {
   "cell_type": "markdown",
   "id": "854ffa30-fc7e-4adb-801d-91837aba5864",
   "metadata": {},
   "source": [
    "Instead of directly using the departure time as-is, it may be easier to predict the outcome with this transformed feature. Since we are implementing robust models that predict whether there will be less-than-15-minutes-delay or above, we don't have to have exact time of departure. By dividing this into 4 clusters, it could give a boost in the performance of models. "
   ]
  },
  {
   "cell_type": "markdown",
   "id": "caafa87f-33e3-40dc-a66b-8fb0d49bf9c0",
   "metadata": {},
   "source": [
    "---"
   ]
  },
  {
   "cell_type": "markdown",
   "id": "0f9a237e-6bd0-40fc-8e27-39a4cf8875fc",
   "metadata": {},
   "source": [
    "Data Transformation"
   ]
  },
  {
   "cell_type": "code",
   "execution_count": 80,
   "id": "ac84b363-f783-4072-93df-ac819e94d3b0",
   "metadata": {},
   "outputs": [
    {
     "data": {
      "text/html": [
       "<div>\n",
       "<style scoped>\n",
       "    .dataframe tbody tr th:only-of-type {\n",
       "        vertical-align: middle;\n",
       "    }\n",
       "\n",
       "    .dataframe tbody tr th {\n",
       "        vertical-align: top;\n",
       "    }\n",
       "\n",
       "    .dataframe thead th {\n",
       "        text-align: right;\n",
       "    }\n",
       "</style>\n",
       "<table border=\"1\" class=\"dataframe\">\n",
       "  <thead>\n",
       "    <tr style=\"text-align: right;\">\n",
       "      <th></th>\n",
       "      <th>month</th>\n",
       "      <th>day</th>\n",
       "      <th>dep_time</th>\n",
       "      <th>dep_delay</th>\n",
       "      <th>carrier</th>\n",
       "      <th>flight</th>\n",
       "      <th>origin</th>\n",
       "      <th>air_time</th>\n",
       "      <th>distance</th>\n",
       "    </tr>\n",
       "  </thead>\n",
       "  <tbody>\n",
       "    <tr>\n",
       "      <th>0</th>\n",
       "      <td>6</td>\n",
       "      <td>30</td>\n",
       "      <td>1</td>\n",
       "      <td>15</td>\n",
       "      <td>VX</td>\n",
       "      <td>407</td>\n",
       "      <td>JFK</td>\n",
       "      <td>313</td>\n",
       "      <td>2475</td>\n",
       "    </tr>\n",
       "    <tr>\n",
       "      <th>1</th>\n",
       "      <td>5</td>\n",
       "      <td>7</td>\n",
       "      <td>3</td>\n",
       "      <td>-3</td>\n",
       "      <td>DL</td>\n",
       "      <td>329</td>\n",
       "      <td>JFK</td>\n",
       "      <td>216</td>\n",
       "      <td>1598</td>\n",
       "    </tr>\n",
       "    <tr>\n",
       "      <th>2</th>\n",
       "      <td>12</td>\n",
       "      <td>8</td>\n",
       "      <td>1</td>\n",
       "      <td>-1</td>\n",
       "      <td>DL</td>\n",
       "      <td>422</td>\n",
       "      <td>JFK</td>\n",
       "      <td>376</td>\n",
       "      <td>2475</td>\n",
       "    </tr>\n",
       "    <tr>\n",
       "      <th>3</th>\n",
       "      <td>5</td>\n",
       "      <td>14</td>\n",
       "      <td>3</td>\n",
       "      <td>-4</td>\n",
       "      <td>DL</td>\n",
       "      <td>2391</td>\n",
       "      <td>JFK</td>\n",
       "      <td>135</td>\n",
       "      <td>1005</td>\n",
       "    </tr>\n",
       "    <tr>\n",
       "      <th>4</th>\n",
       "      <td>7</td>\n",
       "      <td>21</td>\n",
       "      <td>1</td>\n",
       "      <td>-3</td>\n",
       "      <td>9E</td>\n",
       "      <td>3652</td>\n",
       "      <td>LGA</td>\n",
       "      <td>50</td>\n",
       "      <td>296</td>\n",
       "    </tr>\n",
       "  </tbody>\n",
       "</table>\n",
       "</div>"
      ],
      "text/plain": [
       "   month  day  dep_time  dep_delay carrier  flight origin  air_time  distance\n",
       "0      6   30         1         15      VX     407    JFK       313      2475\n",
       "1      5    7         3         -3      DL     329    JFK       216      1598\n",
       "2     12    8         1         -1      DL     422    JFK       376      2475\n",
       "3      5   14         3         -4      DL    2391    JFK       135      1005\n",
       "4      7   21         1         -3      9E    3652    LGA        50       296"
      ]
     },
     "execution_count": 80,
     "metadata": {},
     "output_type": "execute_result"
    }
   ],
   "source": [
    "data.head()"
   ]
  },
  {
   "cell_type": "markdown",
   "id": "c395cd48-0533-4a00-b768-f0e44cc86345",
   "metadata": {},
   "source": [
    "Convert Carrier and Origin into Cateogorical features"
   ]
  },
  {
   "cell_type": "code",
   "execution_count": 82,
   "id": "499c5b31-50e1-4e7f-b967-9aecfded2def",
   "metadata": {},
   "outputs": [],
   "source": [
    "carrier = pd.get_dummies(data['carrier'])\n",
    "origin = pd.get_dummies(data['origin'])\n",
    "\n",
    "data.drop(columns=['carrier', 'origin'], inplace=True)\n",
    "data = pd.concat([data, carrier, origin], axis=1)"
   ]
  },
  {
   "cell_type": "markdown",
   "id": "f45515de-74c3-4b22-b4e9-601518b349ca",
   "metadata": {},
   "source": [
    "Normalize month and day"
   ]
  },
  {
   "cell_type": "code",
   "execution_count": 84,
   "id": "b7a59fcd-7718-482a-b03a-8f19ed30ab91",
   "metadata": {},
   "outputs": [],
   "source": [
    "# Max value of month is 12\n",
    "data['month'] = data['month']/12\n",
    "# Max value of day is 31\n",
    "data['day'] = data['day']/31\n",
    "# Convert airtime in hours\n",
    "data['air_time'] = data['air_time']/60"
   ]
  },
  {
   "cell_type": "code",
   "execution_count": 89,
   "id": "152634c6-d2fc-4660-9560-9e8a2d6d4f8a",
   "metadata": {},
   "outputs": [
    {
     "data": {
      "text/html": [
       "<div>\n",
       "<style scoped>\n",
       "    .dataframe tbody tr th:only-of-type {\n",
       "        vertical-align: middle;\n",
       "    }\n",
       "\n",
       "    .dataframe tbody tr th {\n",
       "        vertical-align: top;\n",
       "    }\n",
       "\n",
       "    .dataframe thead th {\n",
       "        text-align: right;\n",
       "    }\n",
       "</style>\n",
       "<table border=\"1\" class=\"dataframe\">\n",
       "  <thead>\n",
       "    <tr style=\"text-align: right;\">\n",
       "      <th></th>\n",
       "      <th>month</th>\n",
       "      <th>day</th>\n",
       "      <th>dep_time</th>\n",
       "      <th>dep_delay</th>\n",
       "      <th>flight</th>\n",
       "      <th>air_time</th>\n",
       "      <th>distance</th>\n",
       "      <th>9E</th>\n",
       "      <th>AA</th>\n",
       "      <th>AS</th>\n",
       "      <th>...</th>\n",
       "      <th>MQ</th>\n",
       "      <th>OO</th>\n",
       "      <th>UA</th>\n",
       "      <th>US</th>\n",
       "      <th>VX</th>\n",
       "      <th>WN</th>\n",
       "      <th>YV</th>\n",
       "      <th>EWR</th>\n",
       "      <th>JFK</th>\n",
       "      <th>LGA</th>\n",
       "    </tr>\n",
       "  </thead>\n",
       "  <tbody>\n",
       "    <tr>\n",
       "      <th>0</th>\n",
       "      <td>6</td>\n",
       "      <td>0.967742</td>\n",
       "      <td>1</td>\n",
       "      <td>15</td>\n",
       "      <td>407</td>\n",
       "      <td>5.216667</td>\n",
       "      <td>2475</td>\n",
       "      <td>0</td>\n",
       "      <td>0</td>\n",
       "      <td>0</td>\n",
       "      <td>...</td>\n",
       "      <td>0</td>\n",
       "      <td>0</td>\n",
       "      <td>0</td>\n",
       "      <td>0</td>\n",
       "      <td>1</td>\n",
       "      <td>0</td>\n",
       "      <td>0</td>\n",
       "      <td>0</td>\n",
       "      <td>1</td>\n",
       "      <td>0</td>\n",
       "    </tr>\n",
       "    <tr>\n",
       "      <th>1</th>\n",
       "      <td>5</td>\n",
       "      <td>0.225806</td>\n",
       "      <td>3</td>\n",
       "      <td>-3</td>\n",
       "      <td>329</td>\n",
       "      <td>3.600000</td>\n",
       "      <td>1598</td>\n",
       "      <td>0</td>\n",
       "      <td>0</td>\n",
       "      <td>0</td>\n",
       "      <td>...</td>\n",
       "      <td>0</td>\n",
       "      <td>0</td>\n",
       "      <td>0</td>\n",
       "      <td>0</td>\n",
       "      <td>0</td>\n",
       "      <td>0</td>\n",
       "      <td>0</td>\n",
       "      <td>0</td>\n",
       "      <td>1</td>\n",
       "      <td>0</td>\n",
       "    </tr>\n",
       "    <tr>\n",
       "      <th>2</th>\n",
       "      <td>12</td>\n",
       "      <td>0.258065</td>\n",
       "      <td>1</td>\n",
       "      <td>-1</td>\n",
       "      <td>422</td>\n",
       "      <td>6.266667</td>\n",
       "      <td>2475</td>\n",
       "      <td>0</td>\n",
       "      <td>0</td>\n",
       "      <td>0</td>\n",
       "      <td>...</td>\n",
       "      <td>0</td>\n",
       "      <td>0</td>\n",
       "      <td>0</td>\n",
       "      <td>0</td>\n",
       "      <td>0</td>\n",
       "      <td>0</td>\n",
       "      <td>0</td>\n",
       "      <td>0</td>\n",
       "      <td>1</td>\n",
       "      <td>0</td>\n",
       "    </tr>\n",
       "    <tr>\n",
       "      <th>3</th>\n",
       "      <td>5</td>\n",
       "      <td>0.451613</td>\n",
       "      <td>3</td>\n",
       "      <td>-4</td>\n",
       "      <td>2391</td>\n",
       "      <td>2.250000</td>\n",
       "      <td>1005</td>\n",
       "      <td>0</td>\n",
       "      <td>0</td>\n",
       "      <td>0</td>\n",
       "      <td>...</td>\n",
       "      <td>0</td>\n",
       "      <td>0</td>\n",
       "      <td>0</td>\n",
       "      <td>0</td>\n",
       "      <td>0</td>\n",
       "      <td>0</td>\n",
       "      <td>0</td>\n",
       "      <td>0</td>\n",
       "      <td>1</td>\n",
       "      <td>0</td>\n",
       "    </tr>\n",
       "    <tr>\n",
       "      <th>4</th>\n",
       "      <td>7</td>\n",
       "      <td>0.677419</td>\n",
       "      <td>1</td>\n",
       "      <td>-3</td>\n",
       "      <td>3652</td>\n",
       "      <td>0.833333</td>\n",
       "      <td>296</td>\n",
       "      <td>1</td>\n",
       "      <td>0</td>\n",
       "      <td>0</td>\n",
       "      <td>...</td>\n",
       "      <td>0</td>\n",
       "      <td>0</td>\n",
       "      <td>0</td>\n",
       "      <td>0</td>\n",
       "      <td>0</td>\n",
       "      <td>0</td>\n",
       "      <td>0</td>\n",
       "      <td>0</td>\n",
       "      <td>0</td>\n",
       "      <td>1</td>\n",
       "    </tr>\n",
       "  </tbody>\n",
       "</table>\n",
       "<p>5 rows × 26 columns</p>\n",
       "</div>"
      ],
      "text/plain": [
       "   month       day  dep_time  dep_delay  flight  air_time  distance  9E  AA  \\\n",
       "0      6  0.967742         1         15     407  5.216667      2475   0   0   \n",
       "1      5  0.225806         3         -3     329  3.600000      1598   0   0   \n",
       "2     12  0.258065         1         -1     422  6.266667      2475   0   0   \n",
       "3      5  0.451613         3         -4    2391  2.250000      1005   0   0   \n",
       "4      7  0.677419         1         -3    3652  0.833333       296   1   0   \n",
       "\n",
       "   AS  ...  MQ  OO  UA  US  VX  WN  YV  EWR  JFK  LGA  \n",
       "0   0  ...   0   0   0   0   1   0   0    0    1    0  \n",
       "1   0  ...   0   0   0   0   0   0   0    0    1    0  \n",
       "2   0  ...   0   0   0   0   0   0   0    0    1    0  \n",
       "3   0  ...   0   0   0   0   0   0   0    0    1    0  \n",
       "4   0  ...   0   0   0   0   0   0   0    0    0    1  \n",
       "\n",
       "[5 rows x 26 columns]"
      ]
     },
     "execution_count": 89,
     "metadata": {},
     "output_type": "execute_result"
    }
   ],
   "source": [
    "data.head()"
   ]
  },
  {
   "cell_type": "markdown",
   "id": "10ccdc41-2381-4006-990b-94781c0c9dc0",
   "metadata": {},
   "source": [
    "---"
   ]
  },
  {
   "cell_type": "code",
   "execution_count": 94,
   "id": "209f77c2",
   "metadata": {},
   "outputs": [
    {
     "data": {
      "text/html": [
       "<div>\n",
       "<style scoped>\n",
       "    .dataframe tbody tr th:only-of-type {\n",
       "        vertical-align: middle;\n",
       "    }\n",
       "\n",
       "    .dataframe tbody tr th {\n",
       "        vertical-align: top;\n",
       "    }\n",
       "\n",
       "    .dataframe thead th {\n",
       "        text-align: right;\n",
       "    }\n",
       "</style>\n",
       "<table border=\"1\" class=\"dataframe\">\n",
       "  <thead>\n",
       "    <tr style=\"text-align: right;\">\n",
       "      <th></th>\n",
       "      <th>Variable</th>\n",
       "      <th>VIF</th>\n",
       "    </tr>\n",
       "  </thead>\n",
       "  <tbody>\n",
       "    <tr>\n",
       "      <th>5</th>\n",
       "      <td>air_time</td>\n",
       "      <td>175.040532</td>\n",
       "    </tr>\n",
       "    <tr>\n",
       "      <th>6</th>\n",
       "      <td>distance</td>\n",
       "      <td>157.112718</td>\n",
       "    </tr>\n",
       "    <tr>\n",
       "      <th>2</th>\n",
       "      <td>dep_time</td>\n",
       "      <td>4.633030</td>\n",
       "    </tr>\n",
       "    <tr>\n",
       "      <th>0</th>\n",
       "      <td>month</td>\n",
       "      <td>3.873216</td>\n",
       "    </tr>\n",
       "    <tr>\n",
       "      <th>1</th>\n",
       "      <td>day</td>\n",
       "      <td>3.600684</td>\n",
       "    </tr>\n",
       "  </tbody>\n",
       "</table>\n",
       "</div>"
      ],
      "text/plain": [
       "   Variable         VIF\n",
       "5  air_time  175.040532\n",
       "6  distance  157.112718\n",
       "2  dep_time    4.633030\n",
       "0     month    3.873216\n",
       "1       day    3.600684"
      ]
     },
     "execution_count": 94,
     "metadata": {},
     "output_type": "execute_result"
    }
   ],
   "source": [
    "# multicollinearity check\n",
    "multi = data.iloc[:, :7]\n",
    "\n",
    "multi_df = pd.DataFrame()\n",
    "multi_df['Variable'] = multi.columns\n",
    "\n",
    "multi_df['VIF'] = [variance_inflation_factor(multi.values, i)\n",
    "                  for i in range(len(multi.columns))]\n",
    "\n",
    "multi_df.sort_values('VIF', ascending=False).head(5)"
   ]
  },
  {
   "cell_type": "markdown",
   "id": "c0f9e0b7-a1fb-4986-ab6a-6dea6859183c",
   "metadata": {},
   "source": [
    "The above shows the variance inflation factor for non-categorical features (those that were applied OHE)"
   ]
  },
  {
   "cell_type": "code",
   "execution_count": 96,
   "id": "3a16dda3",
   "metadata": {},
   "outputs": [
    {
     "data": {
      "text/html": [
       "<div>\n",
       "<style scoped>\n",
       "    .dataframe tbody tr th:only-of-type {\n",
       "        vertical-align: middle;\n",
       "    }\n",
       "\n",
       "    .dataframe tbody tr th {\n",
       "        vertical-align: top;\n",
       "    }\n",
       "\n",
       "    .dataframe thead th {\n",
       "        text-align: right;\n",
       "    }\n",
       "</style>\n",
       "<table border=\"1\" class=\"dataframe\">\n",
       "  <thead>\n",
       "    <tr style=\"text-align: right;\">\n",
       "      <th></th>\n",
       "      <th>month</th>\n",
       "      <th>day</th>\n",
       "      <th>dep_time</th>\n",
       "      <th>dep_delay</th>\n",
       "      <th>flight</th>\n",
       "      <th>air_time</th>\n",
       "      <th>distance</th>\n",
       "      <th>9E</th>\n",
       "      <th>AA</th>\n",
       "      <th>AS</th>\n",
       "      <th>...</th>\n",
       "      <th>MQ</th>\n",
       "      <th>OO</th>\n",
       "      <th>UA</th>\n",
       "      <th>US</th>\n",
       "      <th>VX</th>\n",
       "      <th>WN</th>\n",
       "      <th>YV</th>\n",
       "      <th>EWR</th>\n",
       "      <th>JFK</th>\n",
       "      <th>LGA</th>\n",
       "    </tr>\n",
       "  </thead>\n",
       "  <tbody>\n",
       "    <tr>\n",
       "      <th>0</th>\n",
       "      <td>6</td>\n",
       "      <td>0.967742</td>\n",
       "      <td>1</td>\n",
       "      <td>15</td>\n",
       "      <td>407</td>\n",
       "      <td>5.216667</td>\n",
       "      <td>2475</td>\n",
       "      <td>0</td>\n",
       "      <td>0</td>\n",
       "      <td>0</td>\n",
       "      <td>...</td>\n",
       "      <td>0</td>\n",
       "      <td>0</td>\n",
       "      <td>0</td>\n",
       "      <td>0</td>\n",
       "      <td>1</td>\n",
       "      <td>0</td>\n",
       "      <td>0</td>\n",
       "      <td>0</td>\n",
       "      <td>1</td>\n",
       "      <td>0</td>\n",
       "    </tr>\n",
       "    <tr>\n",
       "      <th>1</th>\n",
       "      <td>5</td>\n",
       "      <td>0.225806</td>\n",
       "      <td>3</td>\n",
       "      <td>-3</td>\n",
       "      <td>329</td>\n",
       "      <td>3.600000</td>\n",
       "      <td>1598</td>\n",
       "      <td>0</td>\n",
       "      <td>0</td>\n",
       "      <td>0</td>\n",
       "      <td>...</td>\n",
       "      <td>0</td>\n",
       "      <td>0</td>\n",
       "      <td>0</td>\n",
       "      <td>0</td>\n",
       "      <td>0</td>\n",
       "      <td>0</td>\n",
       "      <td>0</td>\n",
       "      <td>0</td>\n",
       "      <td>1</td>\n",
       "      <td>0</td>\n",
       "    </tr>\n",
       "    <tr>\n",
       "      <th>2</th>\n",
       "      <td>12</td>\n",
       "      <td>0.258065</td>\n",
       "      <td>1</td>\n",
       "      <td>-1</td>\n",
       "      <td>422</td>\n",
       "      <td>6.266667</td>\n",
       "      <td>2475</td>\n",
       "      <td>0</td>\n",
       "      <td>0</td>\n",
       "      <td>0</td>\n",
       "      <td>...</td>\n",
       "      <td>0</td>\n",
       "      <td>0</td>\n",
       "      <td>0</td>\n",
       "      <td>0</td>\n",
       "      <td>0</td>\n",
       "      <td>0</td>\n",
       "      <td>0</td>\n",
       "      <td>0</td>\n",
       "      <td>1</td>\n",
       "      <td>0</td>\n",
       "    </tr>\n",
       "    <tr>\n",
       "      <th>3</th>\n",
       "      <td>5</td>\n",
       "      <td>0.451613</td>\n",
       "      <td>3</td>\n",
       "      <td>-4</td>\n",
       "      <td>2391</td>\n",
       "      <td>2.250000</td>\n",
       "      <td>1005</td>\n",
       "      <td>0</td>\n",
       "      <td>0</td>\n",
       "      <td>0</td>\n",
       "      <td>...</td>\n",
       "      <td>0</td>\n",
       "      <td>0</td>\n",
       "      <td>0</td>\n",
       "      <td>0</td>\n",
       "      <td>0</td>\n",
       "      <td>0</td>\n",
       "      <td>0</td>\n",
       "      <td>0</td>\n",
       "      <td>1</td>\n",
       "      <td>0</td>\n",
       "    </tr>\n",
       "    <tr>\n",
       "      <th>4</th>\n",
       "      <td>7</td>\n",
       "      <td>0.677419</td>\n",
       "      <td>1</td>\n",
       "      <td>-3</td>\n",
       "      <td>3652</td>\n",
       "      <td>0.833333</td>\n",
       "      <td>296</td>\n",
       "      <td>1</td>\n",
       "      <td>0</td>\n",
       "      <td>0</td>\n",
       "      <td>...</td>\n",
       "      <td>0</td>\n",
       "      <td>0</td>\n",
       "      <td>0</td>\n",
       "      <td>0</td>\n",
       "      <td>0</td>\n",
       "      <td>0</td>\n",
       "      <td>0</td>\n",
       "      <td>0</td>\n",
       "      <td>0</td>\n",
       "      <td>1</td>\n",
       "    </tr>\n",
       "  </tbody>\n",
       "</table>\n",
       "<p>5 rows × 26 columns</p>\n",
       "</div>"
      ],
      "text/plain": [
       "   month       day  dep_time  dep_delay  flight  air_time  distance  9E  AA  \\\n",
       "0      6  0.967742         1         15     407  5.216667      2475   0   0   \n",
       "1      5  0.225806         3         -3     329  3.600000      1598   0   0   \n",
       "2     12  0.258065         1         -1     422  6.266667      2475   0   0   \n",
       "3      5  0.451613         3         -4    2391  2.250000      1005   0   0   \n",
       "4      7  0.677419         1         -3    3652  0.833333       296   1   0   \n",
       "\n",
       "   AS  ...  MQ  OO  UA  US  VX  WN  YV  EWR  JFK  LGA  \n",
       "0   0  ...   0   0   0   0   1   0   0    0    1    0  \n",
       "1   0  ...   0   0   0   0   0   0   0    0    1    0  \n",
       "2   0  ...   0   0   0   0   0   0   0    0    1    0  \n",
       "3   0  ...   0   0   0   0   0   0   0    0    1    0  \n",
       "4   0  ...   0   0   0   0   0   0   0    0    0    1  \n",
       "\n",
       "[5 rows x 26 columns]"
      ]
     },
     "execution_count": 96,
     "metadata": {},
     "output_type": "execute_result"
    }
   ],
   "source": [
    "data.head()"
   ]
  },
  {
   "cell_type": "markdown",
   "id": "7d0b1898-3238-4bfe-9162-a158012dcb62",
   "metadata": {},
   "source": [
    "Show Correlation without carrier and origin features"
   ]
  },
  {
   "cell_type": "code",
   "execution_count": 100,
   "id": "4a87c94b-9c71-4ab0-ba2a-00ba3bac152d",
   "metadata": {},
   "outputs": [
    {
     "data": {
      "image/png": "[encoded data removed]",
      "text/plain": [
       "<Figure size 576x432 with 2 Axes>"
      ]
     },
     "metadata": {
      "needs_background": "light"
     },
     "output_type": "display_data"
    }
   ],
   "source": [
    "fig, ax = plt.subplots(figsize=(8, 6))\n",
    "\n",
    "sns.heatmap(data.iloc[:, :7].corr(), cmap='crest', ax=ax)\n",
    "\n",
    "plt.show();"
   ]
  },
  {
   "cell_type": "markdown",
   "id": "9ee1f813-9919-4be9-b635-88414ffd3c73",
   "metadata": {},
   "source": [
    "We can see only air_time and distance have high correlation values which makes sense since the farther the distance is, the more time it takes to get there."
   ]
  },
  {
   "cell_type": "markdown",
   "id": "081542c2",
   "metadata": {},
   "source": [
    "---"
   ]
  },
  {
   "cell_type": "markdown",
   "id": "635fcd5e-5a57-4937-b72e-df5643b74d41",
   "metadata": {},
   "source": [
    "### Model Implementation and Evaluation"
   ]
  }
 ],
 "metadata": {
  "interpreter": {
   "hash": "9133a230515fbe884a9243c64442668fe3937a5de3eedfdb7b060716b8294a36"
  },
  "kernelspec": {
   "display_name": "Python 3 (ipykernel)",
   "language": "python",
   "name": "python3"
  },
  "language_info": {
   "codemirror_mode": {
    "name": "ipython",
    "version": 3
   },
   "file_extension": ".py",
   "mimetype": "text/x-python",
   "name": "python",
   "nbconvert_exporter": "python",
   "pygments_lexer": "ipython3",
   "version": "3.9.6"
  }
 },
 "nbformat": 4,
 "nbformat_minor": 5
}
