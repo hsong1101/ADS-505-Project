{
 "cells": [
  {
   "cell_type": "code",
   "execution_count": 1,
   "id": "aac3a506-1fde-4813-80c6-204a5436f51b",
   "metadata": {},
   "outputs": [],
   "source": [
    "import pandas as pd\n",
    "import numpy as np\n",
    "\n",
    "import matplotlib.pyplot as plt\n",
    "import scikitplot as skplt\n",
    "import seaborn as sns\n",
    "\n",
    "from sklearn.model_selection import train_test_split\n",
    "from sklearn.cluster import KMeans\n",
    "from sklearn.decomposition import PCA\n",
    "from sklearn.ensemble import RandomForestClassifier\n",
    "\n",
    "from sklearn.metrics import plot_confusion_matrix\n",
    "\n",
    "random_state = 123\n",
    "\n",
    "import warnings\n",
    "\n",
    "warnings.filterwarnings('ignore')"
   ]
  },
  {
   "cell_type": "markdown",
   "id": "bef0c010-783a-4b32-ab38-d6a71ecdd327",
   "metadata": {},
   "source": [
    "### Exploratory Data Analysis"
   ]
  },
  {
   "cell_type": "markdown",
   "id": "2d0fec7c-f50e-4e6c-a0bb-412606deee72",
   "metadata": {},
   "source": [
    "| Features | Description |\n",
    "| --- | --- |\n",
    "| year | Year |\n",
    "| month | Month |\n",
    "| day | Day |\n",
    "| dep_time | Departure time, in Eastern time zone |\n",
    "| dep_delay | Departure delay, in minutes |\n",
    "| arr_time | Arrival time, in the local time zone|\n",
    "| arr_delay | Arrival delay, in minutes |\n",
    "| carrier | Carrier, abbreviated |\n",
    "| tailnum | Tail number of the airplane |\n",
    "| flight | Flight number |\n",
    "| origin | Flight origin, airport code |\n",
    "| dest | Flight destination, airport code |\n",
    "| air_time | Time in the air, in minutes |\n",
    "| distance | Distance between the departure and arrival airports, in miles |\n",
    "| hour | Scheduled departure hour |\n",
    "| minute | Scheduled departure minute |"
   ]
  },
  {
   "cell_type": "code",
   "execution_count": 2,
   "id": "121ad11f-653a-4262-8b66-9e030432b17e",
   "metadata": {},
   "outputs": [],
   "source": [
    "data = pd.read_csv('nyc-flights.csv')\n",
    "\n",
    "data.shape"
   ]
  },
  {
   "cell_type": "code",
   "execution_count": 4,
   "id": "8e6f713c-7eb7-4825-a438-cbbde7c6ef23",
   "metadata": {},
   "outputs": [
    {
     "data": {
      "text/html": [
       "<div>\n",
       "<style scoped>\n",
       "    .dataframe tbody tr th:only-of-type {\n",
       "        vertical-align: middle;\n",
       "    }\n",
       "\n",
       "    .dataframe tbody tr th {\n",
       "        vertical-align: top;\n",
       "    }\n",
       "\n",
       "    .dataframe thead th {\n",
       "        text-align: right;\n",
       "    }\n",
       "</style>\n",
       "<table border=\"1\" class=\"dataframe\">\n",
       "  <thead>\n",
       "    <tr style=\"text-align: right;\">\n",
       "      <th></th>\n",
       "      <th>year</th>\n",
       "      <th>month</th>\n",
       "      <th>day</th>\n",
       "      <th>dep_time</th>\n",
       "      <th>dep_delay</th>\n",
       "      <th>arr_time</th>\n",
       "      <th>arr_delay</th>\n",
       "      <th>carrier</th>\n",
       "      <th>tailnum</th>\n",
       "      <th>flight</th>\n",
       "      <th>origin</th>\n",
       "      <th>dest</th>\n",
       "      <th>air_time</th>\n",
       "      <th>distance</th>\n",
       "      <th>hour</th>\n",
       "      <th>minute</th>\n",
       "    </tr>\n",
       "  </thead>\n",
       "  <tbody>\n",
       "    <tr>\n",
       "      <th>0</th>\n",
       "      <td>2013</td>\n",
       "      <td>6</td>\n",
       "      <td>30</td>\n",
       "      <td>940</td>\n",
       "      <td>15</td>\n",
       "      <td>1216</td>\n",
       "      <td>-4</td>\n",
       "      <td>VX</td>\n",
       "      <td>N626VA</td>\n",
       "      <td>407</td>\n",
       "      <td>JFK</td>\n",
       "      <td>LAX</td>\n",
       "      <td>313</td>\n",
       "      <td>2475</td>\n",
       "      <td>9</td>\n",
       "      <td>40</td>\n",
       "    </tr>\n",
       "    <tr>\n",
       "      <th>1</th>\n",
       "      <td>2013</td>\n",
       "      <td>5</td>\n",
       "      <td>7</td>\n",
       "      <td>1657</td>\n",
       "      <td>-3</td>\n",
       "      <td>2104</td>\n",
       "      <td>10</td>\n",
       "      <td>DL</td>\n",
       "      <td>N3760C</td>\n",
       "      <td>329</td>\n",
       "      <td>JFK</td>\n",
       "      <td>SJU</td>\n",
       "      <td>216</td>\n",
       "      <td>1598</td>\n",
       "      <td>16</td>\n",
       "      <td>57</td>\n",
       "    </tr>\n",
       "    <tr>\n",
       "      <th>2</th>\n",
       "      <td>2013</td>\n",
       "      <td>12</td>\n",
       "      <td>8</td>\n",
       "      <td>859</td>\n",
       "      <td>-1</td>\n",
       "      <td>1238</td>\n",
       "      <td>11</td>\n",
       "      <td>DL</td>\n",
       "      <td>N712TW</td>\n",
       "      <td>422</td>\n",
       "      <td>JFK</td>\n",
       "      <td>LAX</td>\n",
       "      <td>376</td>\n",
       "      <td>2475</td>\n",
       "      <td>8</td>\n",
       "      <td>59</td>\n",
       "    </tr>\n",
       "    <tr>\n",
       "      <th>3</th>\n",
       "      <td>2013</td>\n",
       "      <td>5</td>\n",
       "      <td>14</td>\n",
       "      <td>1841</td>\n",
       "      <td>-4</td>\n",
       "      <td>2122</td>\n",
       "      <td>-34</td>\n",
       "      <td>DL</td>\n",
       "      <td>N914DL</td>\n",
       "      <td>2391</td>\n",
       "      <td>JFK</td>\n",
       "      <td>TPA</td>\n",
       "      <td>135</td>\n",
       "      <td>1005</td>\n",
       "      <td>18</td>\n",
       "      <td>41</td>\n",
       "    </tr>\n",
       "    <tr>\n",
       "      <th>4</th>\n",
       "      <td>2013</td>\n",
       "      <td>7</td>\n",
       "      <td>21</td>\n",
       "      <td>1102</td>\n",
       "      <td>-3</td>\n",
       "      <td>1230</td>\n",
       "      <td>-8</td>\n",
       "      <td>9E</td>\n",
       "      <td>N823AY</td>\n",
       "      <td>3652</td>\n",
       "      <td>LGA</td>\n",
       "      <td>ORF</td>\n",
       "      <td>50</td>\n",
       "      <td>296</td>\n",
       "      <td>11</td>\n",
       "      <td>2</td>\n",
       "    </tr>\n",
       "  </tbody>\n",
       "</table>\n",
       "</div>"
      ],
      "text/plain": [
       "   year  month  day  dep_time  dep_delay  arr_time  arr_delay carrier tailnum  \\\n",
       "0  2013      6   30       940         15      1216         -4      VX  N626VA   \n",
       "1  2013      5    7      1657         -3      2104         10      DL  N3760C   \n",
       "2  2013     12    8       859         -1      1238         11      DL  N712TW   \n",
       "3  2013      5   14      1841         -4      2122        -34      DL  N914DL   \n",
       "4  2013      7   21      1102         -3      1230         -8      9E  N823AY   \n",
       "\n",
       "   flight origin dest  air_time  distance  hour  minute  \n",
       "0     407    JFK  LAX       313      2475     9      40  \n",
       "1     329    JFK  SJU       216      1598    16      57  \n",
       "2     422    JFK  LAX       376      2475     8      59  \n",
       "3    2391    JFK  TPA       135      1005    18      41  \n",
       "4    3652    LGA  ORF        50       296    11       2  "
      ]
     },
     "execution_count": 4,
     "metadata": {},
     "output_type": "execute_result"
    }
   ],
   "source": [
    "data.head()"
   ]
  },
  {
   "cell_type": "markdown",
   "id": "6256ce03-efcf-475a-a938-6962699c51c0",
   "metadata": {},
   "source": [
    "---"
   ]
  },
  {
   "cell_type": "markdown",
   "id": "ae3f77a4-fe92-4832-bd28-913ada291b86",
   "metadata": {},
   "source": [
    "year"
   ]
  },
  {
   "cell_type": "code",
   "execution_count": 6,
   "id": "4f253ee2-2ab7-44cc-9547-e6daac7994f9",
   "metadata": {},
   "outputs": [
    {
     "data": {
      "text/plain": [
       "2013    32735\n",
       "Name: year, dtype: int64"
      ]
     },
     "execution_count": 6,
     "metadata": {},
     "output_type": "execute_result"
    }
   ],
   "source": [
    "data['year'].value_counts()"
   ]
  },
  {
   "cell_type": "markdown",
   "id": "6ca58606-c647-4a0e-9fd9-a8f72a84aa4e",
   "metadata": {},
   "source": [
    "Because the data is only from 2013 and no variance, dropping it won't have an impact"
   ]
  },
  {
   "cell_type": "code",
   "execution_count": 7,
   "id": "2a9f0317-003a-450d-bf2b-e99b4d0e6559",
   "metadata": {},
   "outputs": [],
   "source": [
    "data.drop(columns='year', inplace=True)"
   ]
  },
  {
   "cell_type": "markdown",
   "id": "5e763393-21e6-4a9f-ad56-fe1406383e8b",
   "metadata": {},
   "source": [
    "---"
   ]
  },
  {
   "cell_type": "markdown",
   "id": "1db818e1-60e0-4d34-8513-04988db7403c",
   "metadata": {},
   "source": [
    "month & day"
   ]
  },
  {
   "cell_type": "code",
   "execution_count": 62,
   "id": "30fece01-0f64-45d2-9224-0c7f3f16d7b5",
   "metadata": {},
   "outputs": [],
   "source": [
    "month_count = data['month'].value_counts().sort_index()\n",
    "day_count = data['day'].value_counts().sort_index()"
   ]
  },
  {
   "cell_type": "code",
   "execution_count": 61,
   "id": "eed8dd38-af64-4dfd-9840-bfb375037e34",
   "metadata": {},
   "outputs": [
    {
     "data": {
      "image/png": "[encoded data removed]",
      "text/plain": [
       "<Figure size 1728x576 with 2 Axes>"
      ]
     },
     "metadata": {
      "needs_background": "light"
     },
     "output_type": "display_data"
    }
   ],
   "source": [
    "fig, ax = plt.subplots(1, 2, figsize=(24, 8))\n",
    "\n",
    "ax1 = sns.countplot(x=\"day\", data=data, ax=ax[0])\n",
    "\n",
    "for p in ax1.patches:\n",
    "    ax1.annotate('{:.1f}'.format(p.get_height()), (p.get_x(), p.get_height()+15), rotation=50)\n",
    "ax1.set_xlabel('Day', size=15)\n",
    "ax1.set_title('Count Plot of Day', size=20)\n",
    "    \n",
    "ax2 = sns.countplot(x=\"month\", data=data, ax=ax[1])\n",
    "\n",
    "for p in ax2.patches:\n",
    "    ax2.annotate('{:.1f}'.format(p.get_height()), (p.get_x(), p.get_height()+50))\n",
    "ax2.set_xlabel('Month', size=15)\n",
    "ax2.set_title('Count Plot of Month', size=20)\n",
    "\n",
    "plt.show();"
   ]
  },
  {
   "cell_type": "markdown",
   "id": "1cb31130-ff78-46b0-b968-158f5f3c9363",
   "metadata": {},
   "source": [
    "Any specific day(s) of month have more data than other days?"
   ]
  },
  {
   "cell_type": "code",
   "execution_count": 98,
   "id": "b5333876-4a75-4ad9-a5e5-49093b4135c3",
   "metadata": {},
   "outputs": [
    {
     "data": {
      "image/png": "[encoded data removed]",
      "text/plain": [
       "<Figure size 2304x1728 with 12 Axes>"
      ]
     },
     "metadata": {
      "needs_background": "light"
     },
     "output_type": "display_data"
    }
   ],
   "source": [
    "fig, ax = plt.subplots(4, 3, figsize=(8*4, 24))\n",
    "\n",
    "for i in range(12):\n",
    "    \n",
    "    row, col = i//3, i%3\n",
    "\n",
    "    plot = sns.countplot(x=\"day\", data=data[data['month']==i+1], ax=ax[row][col])\n",
    "    plot.set_xticklabels(plot.get_xticks(), rotation=90)\n",
    "    plot.set_xlabel('Month {}'.format(i+1), size=20)"
   ]
  },
  {
   "cell_type": "markdown",
   "id": "91598b84-9100-4c4b-878d-91192ce9691f",
   "metadata": {},
   "source": [
    "There seems to be no clear distinct patterns of days and months and they show quite similar distributions."
   ]
  },
  {
   "cell_type": "code",
   "execution_count": 100,
   "id": "7592ede7-41e6-4cf1-8e64-0c6e639ac290",
   "metadata": {},
   "outputs": [
    {
     "data": {
      "text/html": [
       "<div>\n",
       "<style scoped>\n",
       "    .dataframe tbody tr th:only-of-type {\n",
       "        vertical-align: middle;\n",
       "    }\n",
       "\n",
       "    .dataframe tbody tr th {\n",
       "        vertical-align: top;\n",
       "    }\n",
       "\n",
       "    .dataframe thead th {\n",
       "        text-align: right;\n",
       "    }\n",
       "</style>\n",
       "<table border=\"1\" class=\"dataframe\">\n",
       "  <thead>\n",
       "    <tr style=\"text-align: right;\">\n",
       "      <th></th>\n",
       "      <th>day</th>\n",
       "      <th>month</th>\n",
       "    </tr>\n",
       "  </thead>\n",
       "  <tbody>\n",
       "    <tr>\n",
       "      <th>day</th>\n",
       "      <td>1.000000</td>\n",
       "      <td>0.010448</td>\n",
       "    </tr>\n",
       "    <tr>\n",
       "      <th>month</th>\n",
       "      <td>0.010448</td>\n",
       "      <td>1.000000</td>\n",
       "    </tr>\n",
       "  </tbody>\n",
       "</table>\n",
       "</div>"
      ],
      "text/plain": [
       "            day     month\n",
       "day    1.000000  0.010448\n",
       "month  0.010448  1.000000"
      ]
     },
     "execution_count": 100,
     "metadata": {},
     "output_type": "execute_result"
    }
   ],
   "source": [
    "data[['day', 'month']].corr()"
   ]
  },
  {
   "cell_type": "markdown",
   "id": "eac80d73-efce-4e33-8f61-d3f4567a4b8e",
   "metadata": {},
   "source": [
    "And the correlation is also close to 0 and hence, it may be good to keep these two features."
   ]
  },
  {
   "cell_type": "markdown",
   "id": "65862ef4-26ce-437f-8710-d2bfba6cdcb0",
   "metadata": {},
   "source": [
    "---"
   ]
  },
  {
   "cell_type": "code",
   "execution_count": 101,
   "id": "0360c0cc-2f84-4fbe-9025-e73dc5dba380",
   "metadata": {},
   "outputs": [
    {
     "data": {
      "text/html": [
       "<div>\n",
       "<style scoped>\n",
       "    .dataframe tbody tr th:only-of-type {\n",
       "        vertical-align: middle;\n",
       "    }\n",
       "\n",
       "    .dataframe tbody tr th {\n",
       "        vertical-align: top;\n",
       "    }\n",
       "\n",
       "    .dataframe thead th {\n",
       "        text-align: right;\n",
       "    }\n",
       "</style>\n",
       "<table border=\"1\" class=\"dataframe\">\n",
       "  <thead>\n",
       "    <tr style=\"text-align: right;\">\n",
       "      <th></th>\n",
       "      <th>month</th>\n",
       "      <th>day</th>\n",
       "      <th>dep_time</th>\n",
       "      <th>dep_delay</th>\n",
       "      <th>arr_time</th>\n",
       "      <th>arr_delay</th>\n",
       "      <th>carrier</th>\n",
       "      <th>tailnum</th>\n",
       "      <th>flight</th>\n",
       "      <th>origin</th>\n",
       "      <th>dest</th>\n",
       "      <th>air_time</th>\n",
       "      <th>distance</th>\n",
       "      <th>hour</th>\n",
       "      <th>minute</th>\n",
       "    </tr>\n",
       "  </thead>\n",
       "  <tbody>\n",
       "    <tr>\n",
       "      <th>0</th>\n",
       "      <td>6</td>\n",
       "      <td>30</td>\n",
       "      <td>940</td>\n",
       "      <td>15</td>\n",
       "      <td>1216</td>\n",
       "      <td>-4</td>\n",
       "      <td>VX</td>\n",
       "      <td>N626VA</td>\n",
       "      <td>407</td>\n",
       "      <td>JFK</td>\n",
       "      <td>LAX</td>\n",
       "      <td>313</td>\n",
       "      <td>2475</td>\n",
       "      <td>9</td>\n",
       "      <td>40</td>\n",
       "    </tr>\n",
       "    <tr>\n",
       "      <th>1</th>\n",
       "      <td>5</td>\n",
       "      <td>7</td>\n",
       "      <td>1657</td>\n",
       "      <td>-3</td>\n",
       "      <td>2104</td>\n",
       "      <td>10</td>\n",
       "      <td>DL</td>\n",
       "      <td>N3760C</td>\n",
       "      <td>329</td>\n",
       "      <td>JFK</td>\n",
       "      <td>SJU</td>\n",
       "      <td>216</td>\n",
       "      <td>1598</td>\n",
       "      <td>16</td>\n",
       "      <td>57</td>\n",
       "    </tr>\n",
       "    <tr>\n",
       "      <th>2</th>\n",
       "      <td>12</td>\n",
       "      <td>8</td>\n",
       "      <td>859</td>\n",
       "      <td>-1</td>\n",
       "      <td>1238</td>\n",
       "      <td>11</td>\n",
       "      <td>DL</td>\n",
       "      <td>N712TW</td>\n",
       "      <td>422</td>\n",
       "      <td>JFK</td>\n",
       "      <td>LAX</td>\n",
       "      <td>376</td>\n",
       "      <td>2475</td>\n",
       "      <td>8</td>\n",
       "      <td>59</td>\n",
       "    </tr>\n",
       "    <tr>\n",
       "      <th>3</th>\n",
       "      <td>5</td>\n",
       "      <td>14</td>\n",
       "      <td>1841</td>\n",
       "      <td>-4</td>\n",
       "      <td>2122</td>\n",
       "      <td>-34</td>\n",
       "      <td>DL</td>\n",
       "      <td>N914DL</td>\n",
       "      <td>2391</td>\n",
       "      <td>JFK</td>\n",
       "      <td>TPA</td>\n",
       "      <td>135</td>\n",
       "      <td>1005</td>\n",
       "      <td>18</td>\n",
       "      <td>41</td>\n",
       "    </tr>\n",
       "    <tr>\n",
       "      <th>4</th>\n",
       "      <td>7</td>\n",
       "      <td>21</td>\n",
       "      <td>1102</td>\n",
       "      <td>-3</td>\n",
       "      <td>1230</td>\n",
       "      <td>-8</td>\n",
       "      <td>9E</td>\n",
       "      <td>N823AY</td>\n",
       "      <td>3652</td>\n",
       "      <td>LGA</td>\n",
       "      <td>ORF</td>\n",
       "      <td>50</td>\n",
       "      <td>296</td>\n",
       "      <td>11</td>\n",
       "      <td>2</td>\n",
       "    </tr>\n",
       "    <tr>\n",
       "      <th>...</th>\n",
       "      <td>...</td>\n",
       "      <td>...</td>\n",
       "      <td>...</td>\n",
       "      <td>...</td>\n",
       "      <td>...</td>\n",
       "      <td>...</td>\n",
       "      <td>...</td>\n",
       "      <td>...</td>\n",
       "      <td>...</td>\n",
       "      <td>...</td>\n",
       "      <td>...</td>\n",
       "      <td>...</td>\n",
       "      <td>...</td>\n",
       "      <td>...</td>\n",
       "      <td>...</td>\n",
       "    </tr>\n",
       "    <tr>\n",
       "      <th>32730</th>\n",
       "      <td>10</td>\n",
       "      <td>8</td>\n",
       "      <td>752</td>\n",
       "      <td>-8</td>\n",
       "      <td>921</td>\n",
       "      <td>-28</td>\n",
       "      <td>9E</td>\n",
       "      <td>N8505Q</td>\n",
       "      <td>3611</td>\n",
       "      <td>JFK</td>\n",
       "      <td>PIT</td>\n",
       "      <td>63</td>\n",
       "      <td>340</td>\n",
       "      <td>7</td>\n",
       "      <td>52</td>\n",
       "    </tr>\n",
       "    <tr>\n",
       "      <th>32731</th>\n",
       "      <td>7</td>\n",
       "      <td>7</td>\n",
       "      <td>812</td>\n",
       "      <td>-3</td>\n",
       "      <td>1043</td>\n",
       "      <td>8</td>\n",
       "      <td>DL</td>\n",
       "      <td>N6713Y</td>\n",
       "      <td>1429</td>\n",
       "      <td>JFK</td>\n",
       "      <td>LAS</td>\n",
       "      <td>286</td>\n",
       "      <td>2248</td>\n",
       "      <td>8</td>\n",
       "      <td>12</td>\n",
       "    </tr>\n",
       "    <tr>\n",
       "      <th>32732</th>\n",
       "      <td>9</td>\n",
       "      <td>3</td>\n",
       "      <td>1057</td>\n",
       "      <td>-1</td>\n",
       "      <td>1319</td>\n",
       "      <td>-19</td>\n",
       "      <td>UA</td>\n",
       "      <td>N77871</td>\n",
       "      <td>1545</td>\n",
       "      <td>EWR</td>\n",
       "      <td>IAH</td>\n",
       "      <td>180</td>\n",
       "      <td>1400</td>\n",
       "      <td>10</td>\n",
       "      <td>57</td>\n",
       "    </tr>\n",
       "    <tr>\n",
       "      <th>32733</th>\n",
       "      <td>10</td>\n",
       "      <td>15</td>\n",
       "      <td>844</td>\n",
       "      <td>56</td>\n",
       "      <td>1045</td>\n",
       "      <td>60</td>\n",
       "      <td>B6</td>\n",
       "      <td>N258JB</td>\n",
       "      <td>1273</td>\n",
       "      <td>JFK</td>\n",
       "      <td>CHS</td>\n",
       "      <td>93</td>\n",
       "      <td>636</td>\n",
       "      <td>8</td>\n",
       "      <td>44</td>\n",
       "    </tr>\n",
       "    <tr>\n",
       "      <th>32734</th>\n",
       "      <td>3</td>\n",
       "      <td>28</td>\n",
       "      <td>1813</td>\n",
       "      <td>-3</td>\n",
       "      <td>1942</td>\n",
       "      <td>-23</td>\n",
       "      <td>UA</td>\n",
       "      <td>N36272</td>\n",
       "      <td>1053</td>\n",
       "      <td>EWR</td>\n",
       "      <td>CLE</td>\n",
       "      <td>59</td>\n",
       "      <td>404</td>\n",
       "      <td>18</td>\n",
       "      <td>13</td>\n",
       "    </tr>\n",
       "  </tbody>\n",
       "</table>\n",
       "<p>32735 rows × 15 columns</p>\n",
       "</div>"
      ],
      "text/plain": [
       "       month  day  dep_time  dep_delay  arr_time  arr_delay carrier tailnum  \\\n",
       "0          6   30       940         15      1216         -4      VX  N626VA   \n",
       "1          5    7      1657         -3      2104         10      DL  N3760C   \n",
       "2         12    8       859         -1      1238         11      DL  N712TW   \n",
       "3          5   14      1841         -4      2122        -34      DL  N914DL   \n",
       "4          7   21      1102         -3      1230         -8      9E  N823AY   \n",
       "...      ...  ...       ...        ...       ...        ...     ...     ...   \n",
       "32730     10    8       752         -8       921        -28      9E  N8505Q   \n",
       "32731      7    7       812         -3      1043          8      DL  N6713Y   \n",
       "32732      9    3      1057         -1      1319        -19      UA  N77871   \n",
       "32733     10   15       844         56      1045         60      B6  N258JB   \n",
       "32734      3   28      1813         -3      1942        -23      UA  N36272   \n",
       "\n",
       "       flight origin dest  air_time  distance  hour  minute  \n",
       "0         407    JFK  LAX       313      2475     9      40  \n",
       "1         329    JFK  SJU       216      1598    16      57  \n",
       "2         422    JFK  LAX       376      2475     8      59  \n",
       "3        2391    JFK  TPA       135      1005    18      41  \n",
       "4        3652    LGA  ORF        50       296    11       2  \n",
       "...       ...    ...  ...       ...       ...   ...     ...  \n",
       "32730    3611    JFK  PIT        63       340     7      52  \n",
       "32731    1429    JFK  LAS       286      2248     8      12  \n",
       "32732    1545    EWR  IAH       180      1400    10      57  \n",
       "32733    1273    JFK  CHS        93       636     8      44  \n",
       "32734    1053    EWR  CLE        59       404    18      13  \n",
       "\n",
       "[32735 rows x 15 columns]"
      ]
     },
     "execution_count": 101,
     "metadata": {},
     "output_type": "execute_result"
    }
   ],
   "source": [
    "data"
   ]
  },
  {
   "cell_type": "markdown",
   "id": "d8412810-98aa-4bb5-8cbc-f8bf17e74caa",
   "metadata": {},
   "source": [
    "---"
   ]
  },
  {
   "cell_type": "markdown",
   "id": "08cfd6d5-68cc-493d-818a-894bbce7be76",
   "metadata": {},
   "source": [
    "origin & destination & tailnum & air time"
   ]
  },
  {
   "cell_type": "code",
   "execution_count": 105,
   "id": "2feccb90-efaa-442a-bc88-3290fcb63979",
   "metadata": {},
   "outputs": [
    {
     "data": {
      "text/plain": [
       "N725MQ    59\n",
       "N713MQ    53\n",
       "N711MQ    48\n",
       "N723MQ    47\n",
       "N722MQ    46\n",
       "          ..\n",
       "N359AA     1\n",
       "N5FBAA     1\n",
       "N8631E     1\n",
       "N278AT     1\n",
       "N924WN     1\n",
       "Name: tailnum, Length: 3490, dtype: int64"
      ]
     },
     "execution_count": 105,
     "metadata": {},
     "output_type": "execute_result"
    }
   ],
   "source": [
    "data['tailnum'].value_counts()"
   ]
  },
  {
   "cell_type": "code",
   "execution_count": 111,
   "id": "f569dd86-71fb-45ed-a49c-0f157b67b65e",
   "metadata": {},
   "outputs": [
    {
     "data": {
      "text/plain": [
       "EWR    11771\n",
       "JFK    10897\n",
       "LGA    10067\n",
       "Name: origin, dtype: int64"
      ]
     },
     "execution_count": 111,
     "metadata": {},
     "output_type": "execute_result"
    }
   ],
   "source": [
    "data['origin'].value_counts()"
   ]
  },
  {
   "cell_type": "markdown",
   "id": "27868bd7-427a-4b9f-be1d-e9a547746659",
   "metadata": {},
   "source": [
    "We can see there are only 3 origin airports and they are quite evenly distributed"
   ]
  },
  {
   "cell_type": "code",
   "execution_count": 112,
   "id": "85ec2c23-fcd6-4bf3-bbe6-a4fc70322698",
   "metadata": {},
   "outputs": [
    {
     "data": {
      "text/plain": [
       "ATL    1653\n",
       "ORD    1588\n",
       "LAX    1583\n",
       "BOS    1470\n",
       "CLT    1383\n",
       "       ... \n",
       "JAC       2\n",
       "PSP       2\n",
       "CHO       1\n",
       "EYW       1\n",
       "ANC       1\n",
       "Name: dest, Length: 102, dtype: int64"
      ]
     },
     "execution_count": 112,
     "metadata": {},
     "output_type": "execute_result"
    }
   ],
   "source": [
    "data['dest'].value_counts()"
   ]
  },
  {
   "cell_type": "code",
   "execution_count": 124,
   "id": "8cd2a7b3-3e0a-4e84-876e-e75a313aa2f5",
   "metadata": {},
   "outputs": [
    {
     "data": {
      "image/png": "[encoded data removed]",
      "text/plain": [
       "<Figure size 576x432 with 1 Axes>"
      ]
     },
     "metadata": {
      "needs_background": "light"
     },
     "output_type": "display_data"
    }
   ],
   "source": [
    "fig, ax = plt.subplots(figsize=(8, 6))\n",
    "\n",
    "plt.tight_layout()\n",
    "\n",
    "sns.histplot(x='air_time', data=data, ax=ax, kde=True)\n",
    "\n",
    "ax.set_title('Histogram of Time in Air', size=20)\n",
    "ax.set_xlabel('Time in the Air', size=15)\n",
    "ax.set_ylabel('Count', size=15)\n",
    "\n",
    "plt.show();"
   ]
  },
  {
   "cell_type": "markdown",
   "id": "b476943a-0380-40c4-9393-e96382f1dfe6",
   "metadata": {},
   "source": [
    "**TODO**\n",
    "\n",
    "1. Any relation between time in the air and tailnum or carrier?\n",
    "2. Any relation between time in the air and origin&dest?\n",
    "    1. Specific routes cause more time in the air?\n",
    "3. ??"
   ]
  },
  {
   "cell_type": "markdown",
   "id": "10d64da4-130e-45b2-9c64-49543358c6f9",
   "metadata": {},
   "source": [
    "102 distinct destinations"
   ]
  },
  {
   "cell_type": "markdown",
   "id": "bea0633e-7f95-4403-86b6-86d3216adf3b",
   "metadata": {},
   "source": [
    "---"
   ]
  },
  {
   "cell_type": "markdown",
   "id": "277dc6dc-9833-47d6-9070-c165e5e74863",
   "metadata": {},
   "source": [
    "dep_time & arr_time"
   ]
  },
  {
   "cell_type": "code",
   "execution_count": 114,
   "id": "cedeec94-6dfd-487d-af83-392685df88a9",
   "metadata": {},
   "outputs": [
    {
     "data": {
      "text/html": [
       "<div>\n",
       "<style scoped>\n",
       "    .dataframe tbody tr th:only-of-type {\n",
       "        vertical-align: middle;\n",
       "    }\n",
       "\n",
       "    .dataframe tbody tr th {\n",
       "        vertical-align: top;\n",
       "    }\n",
       "\n",
       "    .dataframe thead th {\n",
       "        text-align: right;\n",
       "    }\n",
       "</style>\n",
       "<table border=\"1\" class=\"dataframe\">\n",
       "  <thead>\n",
       "    <tr style=\"text-align: right;\">\n",
       "      <th></th>\n",
       "      <th>dep_time</th>\n",
       "      <th>arr_time</th>\n",
       "      <th>air_time</th>\n",
       "    </tr>\n",
       "  </thead>\n",
       "  <tbody>\n",
       "    <tr>\n",
       "      <th>0</th>\n",
       "      <td>940</td>\n",
       "      <td>1216</td>\n",
       "      <td>313</td>\n",
       "    </tr>\n",
       "    <tr>\n",
       "      <th>1</th>\n",
       "      <td>1657</td>\n",
       "      <td>2104</td>\n",
       "      <td>216</td>\n",
       "    </tr>\n",
       "    <tr>\n",
       "      <th>2</th>\n",
       "      <td>859</td>\n",
       "      <td>1238</td>\n",
       "      <td>376</td>\n",
       "    </tr>\n",
       "    <tr>\n",
       "      <th>3</th>\n",
       "      <td>1841</td>\n",
       "      <td>2122</td>\n",
       "      <td>135</td>\n",
       "    </tr>\n",
       "    <tr>\n",
       "      <th>4</th>\n",
       "      <td>1102</td>\n",
       "      <td>1230</td>\n",
       "      <td>50</td>\n",
       "    </tr>\n",
       "    <tr>\n",
       "      <th>...</th>\n",
       "      <td>...</td>\n",
       "      <td>...</td>\n",
       "      <td>...</td>\n",
       "    </tr>\n",
       "    <tr>\n",
       "      <th>32730</th>\n",
       "      <td>752</td>\n",
       "      <td>921</td>\n",
       "      <td>63</td>\n",
       "    </tr>\n",
       "    <tr>\n",
       "      <th>32731</th>\n",
       "      <td>812</td>\n",
       "      <td>1043</td>\n",
       "      <td>286</td>\n",
       "    </tr>\n",
       "    <tr>\n",
       "      <th>32732</th>\n",
       "      <td>1057</td>\n",
       "      <td>1319</td>\n",
       "      <td>180</td>\n",
       "    </tr>\n",
       "    <tr>\n",
       "      <th>32733</th>\n",
       "      <td>844</td>\n",
       "      <td>1045</td>\n",
       "      <td>93</td>\n",
       "    </tr>\n",
       "    <tr>\n",
       "      <th>32734</th>\n",
       "      <td>1813</td>\n",
       "      <td>1942</td>\n",
       "      <td>59</td>\n",
       "    </tr>\n",
       "  </tbody>\n",
       "</table>\n",
       "<p>32735 rows × 3 columns</p>\n",
       "</div>"
      ],
      "text/plain": [
       "       dep_time  arr_time  air_time\n",
       "0           940      1216       313\n",
       "1          1657      2104       216\n",
       "2           859      1238       376\n",
       "3          1841      2122       135\n",
       "4          1102      1230        50\n",
       "...         ...       ...       ...\n",
       "32730       752       921        63\n",
       "32731       812      1043       286\n",
       "32732      1057      1319       180\n",
       "32733       844      1045        93\n",
       "32734      1813      1942        59\n",
       "\n",
       "[32735 rows x 3 columns]"
      ]
     },
     "execution_count": 114,
     "metadata": {},
     "output_type": "execute_result"
    }
   ],
   "source": [
    "data[['dep_time', 'arr_time', 'air_time']]"
   ]
  },
  {
   "cell_type": "markdown",
   "id": "d38c9470-e41a-4441-ac34-ca67cfa299d7",
   "metadata": {},
   "source": [
    "---"
   ]
  },
  {
   "cell_type": "markdown",
   "id": "8205ec89-ac24-4cf9-b4a4-55e59de1ab00",
   "metadata": {},
   "source": [
    "**TODO**\n",
    "\n",
    "1. Because departure time and arrival time are in Eastern and Local time, converting them into one specific time (UTF, for example) would be ideal.\n",
    "    - But do we really need to do this? since we have air_time that records how long a plane is in the air.\n",
    "    - \n",
    "2. ???"
   ]
  },
  {
   "cell_type": "markdown",
   "id": "83ca90a0-8ee4-4eeb-8eb7-ac95955a05b1",
   "metadata": {},
   "source": [
    "---"
   ]
  },
  {
   "cell_type": "markdown",
   "id": "c2ba5b39-501a-43ff-92db-83733ccd2220",
   "metadata": {},
   "source": [
    "---"
   ]
  },
  {
   "cell_type": "markdown",
   "id": "b73f6a4d-116b-408f-b357-cb83be038e91",
   "metadata": {},
   "source": [
    "---"
   ]
  },
  {
   "cell_type": "code",
   "execution_count": null,
   "id": "41cb4078-6a78-408a-9632-712144912b3a",
   "metadata": {},
   "outputs": [],
   "source": []
  }
 ],
 "metadata": {
  "kernelspec": {
   "display_name": "Python 3 (ipykernel)",
   "language": "python",
   "name": "python3"
  },
  "language_info": {
   "codemirror_mode": {
    "name": "ipython",
    "version": 3
   },
   "file_extension": ".py",
   "mimetype": "text/x-python",
   "name": "python",
   "nbconvert_exporter": "python",
   "pygments_lexer": "ipython3",
   "version": "3.9.6"
  }
 },
 "nbformat": 4,
 "nbformat_minor": 5
}
